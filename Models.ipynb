{
  "nbformat": 4,
  "nbformat_minor": 0,
  "metadata": {
    "colab": {
      "provenance": [],
      "gpuType": "T4",
      "authorship_tag": "ABX9TyPKUAXIMoqlvpVua+a3EGJm",
      "include_colab_link": true
    },
    "kernelspec": {
      "name": "python3",
      "display_name": "Python 3"
    },
    "language_info": {
      "name": "python"
    },
    "accelerator": "GPU"
  },
  "cells": [
    {
      "cell_type": "markdown",
      "metadata": {
        "id": "view-in-github",
        "colab_type": "text"
      },
      "source": [
        "<a href=\"https://colab.research.google.com/github/staerkjoe/QuantRisk_Colab/blob/main/Models.ipynb\" target=\"_parent\"><img src=\"https://colab.research.google.com/assets/colab-badge.svg\" alt=\"Open In Colab\"/></a>"
      ]
    },
    {
      "cell_type": "code",
      "execution_count": 3,
      "metadata": {
        "colab": {
          "base_uri": "https://localhost:8080/"
        },
        "id": "-zC3o55pIwnw",
        "outputId": "3c03fa05-b213-4a0a-a1c9-036e02583ea3"
      },
      "outputs": [
        {
          "output_type": "stream",
          "name": "stdout",
          "text": [
            "Mounted at /content/drive\n"
          ]
        }
      ],
      "source": [
        "from google.colab import drive\n",
        "\n",
        "# Mount Google Drive\n",
        "drive.mount('/content/drive')"
      ]
    },
    {
      "cell_type": "markdown",
      "source": [
        "Link to dataset: https://www.kaggle.com/datasets/pkdarabi/classification-of-travel-purpose"
      ],
      "metadata": {
        "id": "upBR3H4eJ-hF"
      }
    },
    {
      "cell_type": "code",
      "source": [
        "import tensorflow as tf\n",
        "import tf_keras as keras\n",
        "import pandas as pd\n",
        "# note: tensorflow 2.17 onwards uses tf.keras 3.0 internally,\n",
        "# which seem to be still bugged and inconsistent.\n",
        "# We therefore use tf_keras in according to tensorflow version.\n",
        "\n",
        "import numpy as np\n",
        "import os\n",
        "import time"
      ],
      "metadata": {
        "id": "l98xt8TQJzdH"
      },
      "execution_count": 4,
      "outputs": []
    },
    {
      "cell_type": "code",
      "source": [
        "path = '/content/drive/MyDrive/Colab Notebooks/QantRisk'\n",
        "df = pd.read_csv(os.path.join(path, \"cleaned_data_new.csv\"))"
      ],
      "metadata": {
        "id": "mlQz2tsHI0JU"
      },
      "execution_count": 5,
      "outputs": []
    },
    {
      "cell_type": "code",
      "source": [
        "df.head()"
      ],
      "metadata": {
        "id": "S97NefuLkC4_",
        "outputId": "be2f2e6f-6f52-4b00-a734-bd25cbadd00a",
        "colab": {
          "base_uri": "https://localhost:8080/",
          "height": 226
        }
      },
      "execution_count": 6,
      "outputs": [
        {
          "output_type": "execute_result",
          "data": {
            "text/plain": [
              "   ReserveStatus  Male  Price  CouponDiscount   From     To  Domestic  \\\n",
              "0              3     0  40.54             0.0  shyrz    hwz         1   \n",
              "1              3     1  50.27             0.0   thrn  shyrz         1   \n",
              "2              3     1  24.73             0.0   thrn   Sfhn         1   \n",
              "3              3     1  26.35             0.0   thrn  tbryz         1   \n",
              "4              2     1  23.48             0.0    yzd   thrn         1   \n",
              "\n",
              "  VIPStatus TripReason Vehicle  Cancel     LeadTime  IsWeekend  DiscountRatio  \\\n",
              "0      True       Work     Bus       0    63272.750          0            0.0   \n",
              "1      True       Work     Bus       0     7215.157          0            0.0   \n",
              "2      True       Work     Bus       0    57761.133          0            0.0   \n",
              "3      True        Int     Bus       0   312199.797          0            0.0   \n",
              "4   Unknown        Int   Train       0  1471280.147          0            0.0   \n",
              "\n",
              "   BookingMonth  DepartureMonth  BookingWeekday  DepartureWeekday  \\\n",
              "0             9               9               1                 2   \n",
              "1             7               7               3                 3   \n",
              "2            10              10               6                 0   \n",
              "3             3               3               3                 0   \n",
              "4             9               9               1                 4   \n",
              "\n",
              "   DepartureHour  BookingHour  \n",
              "0             11           17  \n",
              "1             16           13  \n",
              "2              2            9  \n",
              "3             13           22  \n",
              "4             20           20  "
            ],
            "text/html": [
              "\n",
              "  <div id=\"df-89f1567e-6cb6-4dcd-8d30-eb432c3f05a3\" class=\"colab-df-container\">\n",
              "    <div>\n",
              "<style scoped>\n",
              "    .dataframe tbody tr th:only-of-type {\n",
              "        vertical-align: middle;\n",
              "    }\n",
              "\n",
              "    .dataframe tbody tr th {\n",
              "        vertical-align: top;\n",
              "    }\n",
              "\n",
              "    .dataframe thead th {\n",
              "        text-align: right;\n",
              "    }\n",
              "</style>\n",
              "<table border=\"1\" class=\"dataframe\">\n",
              "  <thead>\n",
              "    <tr style=\"text-align: right;\">\n",
              "      <th></th>\n",
              "      <th>ReserveStatus</th>\n",
              "      <th>Male</th>\n",
              "      <th>Price</th>\n",
              "      <th>CouponDiscount</th>\n",
              "      <th>From</th>\n",
              "      <th>To</th>\n",
              "      <th>Domestic</th>\n",
              "      <th>VIPStatus</th>\n",
              "      <th>TripReason</th>\n",
              "      <th>Vehicle</th>\n",
              "      <th>Cancel</th>\n",
              "      <th>LeadTime</th>\n",
              "      <th>IsWeekend</th>\n",
              "      <th>DiscountRatio</th>\n",
              "      <th>BookingMonth</th>\n",
              "      <th>DepartureMonth</th>\n",
              "      <th>BookingWeekday</th>\n",
              "      <th>DepartureWeekday</th>\n",
              "      <th>DepartureHour</th>\n",
              "      <th>BookingHour</th>\n",
              "    </tr>\n",
              "  </thead>\n",
              "  <tbody>\n",
              "    <tr>\n",
              "      <th>0</th>\n",
              "      <td>3</td>\n",
              "      <td>0</td>\n",
              "      <td>40.54</td>\n",
              "      <td>0.0</td>\n",
              "      <td>shyrz</td>\n",
              "      <td>hwz</td>\n",
              "      <td>1</td>\n",
              "      <td>True</td>\n",
              "      <td>Work</td>\n",
              "      <td>Bus</td>\n",
              "      <td>0</td>\n",
              "      <td>63272.750</td>\n",
              "      <td>0</td>\n",
              "      <td>0.0</td>\n",
              "      <td>9</td>\n",
              "      <td>9</td>\n",
              "      <td>1</td>\n",
              "      <td>2</td>\n",
              "      <td>11</td>\n",
              "      <td>17</td>\n",
              "    </tr>\n",
              "    <tr>\n",
              "      <th>1</th>\n",
              "      <td>3</td>\n",
              "      <td>1</td>\n",
              "      <td>50.27</td>\n",
              "      <td>0.0</td>\n",
              "      <td>thrn</td>\n",
              "      <td>shyrz</td>\n",
              "      <td>1</td>\n",
              "      <td>True</td>\n",
              "      <td>Work</td>\n",
              "      <td>Bus</td>\n",
              "      <td>0</td>\n",
              "      <td>7215.157</td>\n",
              "      <td>0</td>\n",
              "      <td>0.0</td>\n",
              "      <td>7</td>\n",
              "      <td>7</td>\n",
              "      <td>3</td>\n",
              "      <td>3</td>\n",
              "      <td>16</td>\n",
              "      <td>13</td>\n",
              "    </tr>\n",
              "    <tr>\n",
              "      <th>2</th>\n",
              "      <td>3</td>\n",
              "      <td>1</td>\n",
              "      <td>24.73</td>\n",
              "      <td>0.0</td>\n",
              "      <td>thrn</td>\n",
              "      <td>Sfhn</td>\n",
              "      <td>1</td>\n",
              "      <td>True</td>\n",
              "      <td>Work</td>\n",
              "      <td>Bus</td>\n",
              "      <td>0</td>\n",
              "      <td>57761.133</td>\n",
              "      <td>0</td>\n",
              "      <td>0.0</td>\n",
              "      <td>10</td>\n",
              "      <td>10</td>\n",
              "      <td>6</td>\n",
              "      <td>0</td>\n",
              "      <td>2</td>\n",
              "      <td>9</td>\n",
              "    </tr>\n",
              "    <tr>\n",
              "      <th>3</th>\n",
              "      <td>3</td>\n",
              "      <td>1</td>\n",
              "      <td>26.35</td>\n",
              "      <td>0.0</td>\n",
              "      <td>thrn</td>\n",
              "      <td>tbryz</td>\n",
              "      <td>1</td>\n",
              "      <td>True</td>\n",
              "      <td>Int</td>\n",
              "      <td>Bus</td>\n",
              "      <td>0</td>\n",
              "      <td>312199.797</td>\n",
              "      <td>0</td>\n",
              "      <td>0.0</td>\n",
              "      <td>3</td>\n",
              "      <td>3</td>\n",
              "      <td>3</td>\n",
              "      <td>0</td>\n",
              "      <td>13</td>\n",
              "      <td>22</td>\n",
              "    </tr>\n",
              "    <tr>\n",
              "      <th>4</th>\n",
              "      <td>2</td>\n",
              "      <td>1</td>\n",
              "      <td>23.48</td>\n",
              "      <td>0.0</td>\n",
              "      <td>yzd</td>\n",
              "      <td>thrn</td>\n",
              "      <td>1</td>\n",
              "      <td>Unknown</td>\n",
              "      <td>Int</td>\n",
              "      <td>Train</td>\n",
              "      <td>0</td>\n",
              "      <td>1471280.147</td>\n",
              "      <td>0</td>\n",
              "      <td>0.0</td>\n",
              "      <td>9</td>\n",
              "      <td>9</td>\n",
              "      <td>1</td>\n",
              "      <td>4</td>\n",
              "      <td>20</td>\n",
              "      <td>20</td>\n",
              "    </tr>\n",
              "  </tbody>\n",
              "</table>\n",
              "</div>\n",
              "    <div class=\"colab-df-buttons\">\n",
              "\n",
              "  <div class=\"colab-df-container\">\n",
              "    <button class=\"colab-df-convert\" onclick=\"convertToInteractive('df-89f1567e-6cb6-4dcd-8d30-eb432c3f05a3')\"\n",
              "            title=\"Convert this dataframe to an interactive table.\"\n",
              "            style=\"display:none;\">\n",
              "\n",
              "  <svg xmlns=\"http://www.w3.org/2000/svg\" height=\"24px\" viewBox=\"0 -960 960 960\">\n",
              "    <path d=\"M120-120v-720h720v720H120Zm60-500h600v-160H180v160Zm220 220h160v-160H400v160Zm0 220h160v-160H400v160ZM180-400h160v-160H180v160Zm440 0h160v-160H620v160ZM180-180h160v-160H180v160Zm440 0h160v-160H620v160Z\"/>\n",
              "  </svg>\n",
              "    </button>\n",
              "\n",
              "  <style>\n",
              "    .colab-df-container {\n",
              "      display:flex;\n",
              "      gap: 12px;\n",
              "    }\n",
              "\n",
              "    .colab-df-convert {\n",
              "      background-color: #E8F0FE;\n",
              "      border: none;\n",
              "      border-radius: 50%;\n",
              "      cursor: pointer;\n",
              "      display: none;\n",
              "      fill: #1967D2;\n",
              "      height: 32px;\n",
              "      padding: 0 0 0 0;\n",
              "      width: 32px;\n",
              "    }\n",
              "\n",
              "    .colab-df-convert:hover {\n",
              "      background-color: #E2EBFA;\n",
              "      box-shadow: 0px 1px 2px rgba(60, 64, 67, 0.3), 0px 1px 3px 1px rgba(60, 64, 67, 0.15);\n",
              "      fill: #174EA6;\n",
              "    }\n",
              "\n",
              "    .colab-df-buttons div {\n",
              "      margin-bottom: 4px;\n",
              "    }\n",
              "\n",
              "    [theme=dark] .colab-df-convert {\n",
              "      background-color: #3B4455;\n",
              "      fill: #D2E3FC;\n",
              "    }\n",
              "\n",
              "    [theme=dark] .colab-df-convert:hover {\n",
              "      background-color: #434B5C;\n",
              "      box-shadow: 0px 1px 3px 1px rgba(0, 0, 0, 0.15);\n",
              "      filter: drop-shadow(0px 1px 2px rgba(0, 0, 0, 0.3));\n",
              "      fill: #FFFFFF;\n",
              "    }\n",
              "  </style>\n",
              "\n",
              "    <script>\n",
              "      const buttonEl =\n",
              "        document.querySelector('#df-89f1567e-6cb6-4dcd-8d30-eb432c3f05a3 button.colab-df-convert');\n",
              "      buttonEl.style.display =\n",
              "        google.colab.kernel.accessAllowed ? 'block' : 'none';\n",
              "\n",
              "      async function convertToInteractive(key) {\n",
              "        const element = document.querySelector('#df-89f1567e-6cb6-4dcd-8d30-eb432c3f05a3');\n",
              "        const dataTable =\n",
              "          await google.colab.kernel.invokeFunction('convertToInteractive',\n",
              "                                                    [key], {});\n",
              "        if (!dataTable) return;\n",
              "\n",
              "        const docLinkHtml = 'Like what you see? Visit the ' +\n",
              "          '<a target=\"_blank\" href=https://colab.research.google.com/notebooks/data_table.ipynb>data table notebook</a>'\n",
              "          + ' to learn more about interactive tables.';\n",
              "        element.innerHTML = '';\n",
              "        dataTable['output_type'] = 'display_data';\n",
              "        await google.colab.output.renderOutput(dataTable, element);\n",
              "        const docLink = document.createElement('div');\n",
              "        docLink.innerHTML = docLinkHtml;\n",
              "        element.appendChild(docLink);\n",
              "      }\n",
              "    </script>\n",
              "  </div>\n",
              "\n",
              "\n",
              "    <div id=\"df-0a187f2b-c534-475d-af53-d29f70f50e99\">\n",
              "      <button class=\"colab-df-quickchart\" onclick=\"quickchart('df-0a187f2b-c534-475d-af53-d29f70f50e99')\"\n",
              "                title=\"Suggest charts\"\n",
              "                style=\"display:none;\">\n",
              "\n",
              "<svg xmlns=\"http://www.w3.org/2000/svg\" height=\"24px\"viewBox=\"0 0 24 24\"\n",
              "     width=\"24px\">\n",
              "    <g>\n",
              "        <path d=\"M19 3H5c-1.1 0-2 .9-2 2v14c0 1.1.9 2 2 2h14c1.1 0 2-.9 2-2V5c0-1.1-.9-2-2-2zM9 17H7v-7h2v7zm4 0h-2V7h2v10zm4 0h-2v-4h2v4z\"/>\n",
              "    </g>\n",
              "</svg>\n",
              "      </button>\n",
              "\n",
              "<style>\n",
              "  .colab-df-quickchart {\n",
              "      --bg-color: #E8F0FE;\n",
              "      --fill-color: #1967D2;\n",
              "      --hover-bg-color: #E2EBFA;\n",
              "      --hover-fill-color: #174EA6;\n",
              "      --disabled-fill-color: #AAA;\n",
              "      --disabled-bg-color: #DDD;\n",
              "  }\n",
              "\n",
              "  [theme=dark] .colab-df-quickchart {\n",
              "      --bg-color: #3B4455;\n",
              "      --fill-color: #D2E3FC;\n",
              "      --hover-bg-color: #434B5C;\n",
              "      --hover-fill-color: #FFFFFF;\n",
              "      --disabled-bg-color: #3B4455;\n",
              "      --disabled-fill-color: #666;\n",
              "  }\n",
              "\n",
              "  .colab-df-quickchart {\n",
              "    background-color: var(--bg-color);\n",
              "    border: none;\n",
              "    border-radius: 50%;\n",
              "    cursor: pointer;\n",
              "    display: none;\n",
              "    fill: var(--fill-color);\n",
              "    height: 32px;\n",
              "    padding: 0;\n",
              "    width: 32px;\n",
              "  }\n",
              "\n",
              "  .colab-df-quickchart:hover {\n",
              "    background-color: var(--hover-bg-color);\n",
              "    box-shadow: 0 1px 2px rgba(60, 64, 67, 0.3), 0 1px 3px 1px rgba(60, 64, 67, 0.15);\n",
              "    fill: var(--button-hover-fill-color);\n",
              "  }\n",
              "\n",
              "  .colab-df-quickchart-complete:disabled,\n",
              "  .colab-df-quickchart-complete:disabled:hover {\n",
              "    background-color: var(--disabled-bg-color);\n",
              "    fill: var(--disabled-fill-color);\n",
              "    box-shadow: none;\n",
              "  }\n",
              "\n",
              "  .colab-df-spinner {\n",
              "    border: 2px solid var(--fill-color);\n",
              "    border-color: transparent;\n",
              "    border-bottom-color: var(--fill-color);\n",
              "    animation:\n",
              "      spin 1s steps(1) infinite;\n",
              "  }\n",
              "\n",
              "  @keyframes spin {\n",
              "    0% {\n",
              "      border-color: transparent;\n",
              "      border-bottom-color: var(--fill-color);\n",
              "      border-left-color: var(--fill-color);\n",
              "    }\n",
              "    20% {\n",
              "      border-color: transparent;\n",
              "      border-left-color: var(--fill-color);\n",
              "      border-top-color: var(--fill-color);\n",
              "    }\n",
              "    30% {\n",
              "      border-color: transparent;\n",
              "      border-left-color: var(--fill-color);\n",
              "      border-top-color: var(--fill-color);\n",
              "      border-right-color: var(--fill-color);\n",
              "    }\n",
              "    40% {\n",
              "      border-color: transparent;\n",
              "      border-right-color: var(--fill-color);\n",
              "      border-top-color: var(--fill-color);\n",
              "    }\n",
              "    60% {\n",
              "      border-color: transparent;\n",
              "      border-right-color: var(--fill-color);\n",
              "    }\n",
              "    80% {\n",
              "      border-color: transparent;\n",
              "      border-right-color: var(--fill-color);\n",
              "      border-bottom-color: var(--fill-color);\n",
              "    }\n",
              "    90% {\n",
              "      border-color: transparent;\n",
              "      border-bottom-color: var(--fill-color);\n",
              "    }\n",
              "  }\n",
              "</style>\n",
              "\n",
              "      <script>\n",
              "        async function quickchart(key) {\n",
              "          const quickchartButtonEl =\n",
              "            document.querySelector('#' + key + ' button');\n",
              "          quickchartButtonEl.disabled = true;  // To prevent multiple clicks.\n",
              "          quickchartButtonEl.classList.add('colab-df-spinner');\n",
              "          try {\n",
              "            const charts = await google.colab.kernel.invokeFunction(\n",
              "                'suggestCharts', [key], {});\n",
              "          } catch (error) {\n",
              "            console.error('Error during call to suggestCharts:', error);\n",
              "          }\n",
              "          quickchartButtonEl.classList.remove('colab-df-spinner');\n",
              "          quickchartButtonEl.classList.add('colab-df-quickchart-complete');\n",
              "        }\n",
              "        (() => {\n",
              "          let quickchartButtonEl =\n",
              "            document.querySelector('#df-0a187f2b-c534-475d-af53-d29f70f50e99 button');\n",
              "          quickchartButtonEl.style.display =\n",
              "            google.colab.kernel.accessAllowed ? 'block' : 'none';\n",
              "        })();\n",
              "      </script>\n",
              "    </div>\n",
              "\n",
              "    </div>\n",
              "  </div>\n"
            ],
            "application/vnd.google.colaboratory.intrinsic+json": {
              "type": "dataframe",
              "variable_name": "df",
              "summary": "{\n  \"name\": \"df\",\n  \"rows\": 45901,\n  \"fields\": [\n    {\n      \"column\": \"ReserveStatus\",\n      \"properties\": {\n        \"dtype\": \"number\",\n        \"std\": 0,\n        \"min\": 2,\n        \"max\": 5,\n        \"num_unique_values\": 4,\n        \"samples\": [\n          2,\n          4,\n          3\n        ],\n        \"semantic_type\": \"\",\n        \"description\": \"\"\n      }\n    },\n    {\n      \"column\": \"Male\",\n      \"properties\": {\n        \"dtype\": \"number\",\n        \"std\": 0,\n        \"min\": 0,\n        \"max\": 1,\n        \"num_unique_values\": 2,\n        \"samples\": [\n          1,\n          0\n        ],\n        \"semantic_type\": \"\",\n        \"description\": \"\"\n      }\n    },\n    {\n      \"column\": \"Price\",\n      \"properties\": {\n        \"dtype\": \"number\",\n        \"std\": 11.349383413333552,\n        \"min\": 20.78,\n        \"max\": 63.85,\n        \"num_unique_values\": 1421,\n        \"samples\": [\n          22.3,\n          29.02\n        ],\n        \"semantic_type\": \"\",\n        \"description\": \"\"\n      }\n    },\n    {\n      \"column\": \"CouponDiscount\",\n      \"properties\": {\n        \"dtype\": \"number\",\n        \"std\": 0.5860055427161244,\n        \"min\": 0.0,\n        \"max\": 54.05,\n        \"num_unique_values\": 255,\n        \"samples\": [\n          0.32,\n          0.53\n        ],\n        \"semantic_type\": \"\",\n        \"description\": \"\"\n      }\n    },\n    {\n      \"column\": \"From\",\n      \"properties\": {\n        \"dtype\": \"category\",\n        \"num_unique_values\": 150,\n        \"samples\": [\n          \"bm\",\n          \"khrmn\"\n        ],\n        \"semantic_type\": \"\",\n        \"description\": \"\"\n      }\n    },\n    {\n      \"column\": \"To\",\n      \"properties\": {\n        \"dtype\": \"category\",\n        \"num_unique_values\": 185,\n        \"samples\": [\n          \"qm\",\n          \"khrmnshh\"\n        ],\n        \"semantic_type\": \"\",\n        \"description\": \"\"\n      }\n    },\n    {\n      \"column\": \"Domestic\",\n      \"properties\": {\n        \"dtype\": \"number\",\n        \"std\": 0,\n        \"min\": 0,\n        \"max\": 1,\n        \"num_unique_values\": 2,\n        \"samples\": [\n          0,\n          1\n        ],\n        \"semantic_type\": \"\",\n        \"description\": \"\"\n      }\n    },\n    {\n      \"column\": \"VIPStatus\",\n      \"properties\": {\n        \"dtype\": \"category\",\n        \"num_unique_values\": 3,\n        \"samples\": [\n          \"True\",\n          \"Unknown\"\n        ],\n        \"semantic_type\": \"\",\n        \"description\": \"\"\n      }\n    },\n    {\n      \"column\": \"TripReason\",\n      \"properties\": {\n        \"dtype\": \"category\",\n        \"num_unique_values\": 2,\n        \"samples\": [\n          \"Int\",\n          \"Work\"\n        ],\n        \"semantic_type\": \"\",\n        \"description\": \"\"\n      }\n    },\n    {\n      \"column\": \"Vehicle\",\n      \"properties\": {\n        \"dtype\": \"category\",\n        \"num_unique_values\": 4,\n        \"samples\": [\n          \"Train\",\n          \"InternationalPlane\"\n        ],\n        \"semantic_type\": \"\",\n        \"description\": \"\"\n      }\n    },\n    {\n      \"column\": \"Cancel\",\n      \"properties\": {\n        \"dtype\": \"number\",\n        \"std\": 0,\n        \"min\": 0,\n        \"max\": 1,\n        \"num_unique_values\": 2,\n        \"samples\": [\n          1,\n          0\n        ],\n        \"semantic_type\": \"\",\n        \"description\": \"\"\n      }\n    },\n    {\n      \"column\": \"LeadTime\",\n      \"properties\": {\n        \"dtype\": \"number\",\n        \"std\": 707806.5343382135,\n        \"min\": 1879.693,\n        \"max\": 6524436.667,\n        \"num_unique_values\": 34532,\n        \"samples\": [\n          126383.533,\n          59595.573\n        ],\n        \"semantic_type\": \"\",\n        \"description\": \"\"\n      }\n    },\n    {\n      \"column\": \"IsWeekend\",\n      \"properties\": {\n        \"dtype\": \"number\",\n        \"std\": 0,\n        \"min\": 0,\n        \"max\": 1,\n        \"num_unique_values\": 2,\n        \"samples\": [\n          1,\n          0\n        ],\n        \"semantic_type\": \"\",\n        \"description\": \"\"\n      }\n    },\n    {\n      \"column\": \"DiscountRatio\",\n      \"properties\": {\n        \"dtype\": \"number\",\n        \"std\": 0.015095275530223225,\n        \"min\": 0.0,\n        \"max\": 1.1130434782608696,\n        \"num_unique_values\": 1325,\n        \"samples\": [\n          0.0059961842463886,\n          0.0300751879699248\n        ],\n        \"semantic_type\": \"\",\n        \"description\": \"\"\n      }\n    },\n    {\n      \"column\": \"BookingMonth\",\n      \"properties\": {\n        \"dtype\": \"number\",\n        \"std\": 2,\n        \"min\": 1,\n        \"max\": 11,\n        \"num_unique_values\": 11,\n        \"samples\": [\n          2,\n          9\n        ],\n        \"semantic_type\": \"\",\n        \"description\": \"\"\n      }\n    },\n    {\n      \"column\": \"DepartureMonth\",\n      \"properties\": {\n        \"dtype\": \"number\",\n        \"std\": 2,\n        \"min\": 2,\n        \"max\": 11,\n        \"num_unique_values\": 10,\n        \"samples\": [\n          8,\n          7\n        ],\n        \"semantic_type\": \"\",\n        \"description\": \"\"\n      }\n    },\n    {\n      \"column\": \"BookingWeekday\",\n      \"properties\": {\n        \"dtype\": \"number\",\n        \"std\": 2,\n        \"min\": 0,\n        \"max\": 6,\n        \"num_unique_values\": 7,\n        \"samples\": [\n          1,\n          3\n        ],\n        \"semantic_type\": \"\",\n        \"description\": \"\"\n      }\n    },\n    {\n      \"column\": \"DepartureWeekday\",\n      \"properties\": {\n        \"dtype\": \"number\",\n        \"std\": 1,\n        \"min\": 0,\n        \"max\": 6,\n        \"num_unique_values\": 7,\n        \"samples\": [\n          2,\n          3\n        ],\n        \"semantic_type\": \"\",\n        \"description\": \"\"\n      }\n    },\n    {\n      \"column\": \"DepartureHour\",\n      \"properties\": {\n        \"dtype\": \"number\",\n        \"std\": 6,\n        \"min\": 0,\n        \"max\": 23,\n        \"num_unique_values\": 24,\n        \"samples\": [\n          7,\n          14\n        ],\n        \"semantic_type\": \"\",\n        \"description\": \"\"\n      }\n    },\n    {\n      \"column\": \"BookingHour\",\n      \"properties\": {\n        \"dtype\": \"number\",\n        \"std\": 5,\n        \"min\": 0,\n        \"max\": 23,\n        \"num_unique_values\": 24,\n        \"samples\": [\n          15,\n          19\n        ],\n        \"semantic_type\": \"\",\n        \"description\": \"\"\n      }\n    }\n  ]\n}"
            }
          },
          "metadata": {},
          "execution_count": 6
        }
      ]
    },
    {
      "cell_type": "code",
      "source": [
        "from sklearn.preprocessing import OneHotEncoder\n",
        "from sklearn.compose import ColumnTransformer\n",
        "from sklearn.preprocessing import StandardScaler\n",
        "from imblearn.pipeline import Pipeline\n",
        "from sklearn.linear_model import LogisticRegression\n",
        "\n",
        "\n",
        "\n",
        "numeric_cols = [\n",
        "    'Price','CouponDiscount','DiscountRatio',\n",
        "    #'FromFreq','ToFreq',\n",
        "    'LeadTime',\n",
        "    'IsWeekend','BookingWeekday','DepartureWeekday',\n",
        "    'DepartureHour','BookingHour','BookingMonth','DepartureMonth'\n",
        "]\n",
        "categorical_cols = ['TripReason', 'VIPStatus','Vehicle','From', 'To' ]\n",
        "\n",
        "\n",
        "preprocess = ColumnTransformer(\n",
        "    transformers=[\n",
        "        ('num', StandardScaler(), numeric_cols),\n",
        "        ('cat', OneHotEncoder(handle_unknown='ignore', sparse_output=False), categorical_cols)\n",
        "    ],\n",
        "    remainder='drop'\n",
        ")"
      ],
      "metadata": {
        "id": "UOQpdeEGJFqe"
      },
      "execution_count": 7,
      "outputs": []
    },
    {
      "cell_type": "code",
      "source": [
        "from sklearn.model_selection import train_test_split\n",
        "\n",
        "X = df.drop(columns='Cancel')  # Features\n",
        "y = df['Cancel']               # Target\n",
        "\n",
        "X_train, X_test, y_train, y_test = train_test_split(\n",
        "    X, y, test_size=0.2, random_state=42, stratify=y\n",
        ")\n"
      ],
      "metadata": {
        "id": "GHy91DazJGVt"
      },
      "execution_count": 8,
      "outputs": []
    },
    {
      "cell_type": "code",
      "source": [
        "from imblearn.over_sampling import SMOTE\n",
        "\n",
        "smote = SMOTE(random_state=42)"
      ],
      "metadata": {
        "id": "j4GgjYZ3JJMY"
      },
      "execution_count": 9,
      "outputs": []
    },
    {
      "cell_type": "code",
      "source": [
        "logreg = XGBClassifier(\n",
        "    tree_method=\"hist\",        # Fast histogram-based method\n",
        "    predictor=\"gpu_predictor\", # Use GPU for prediction\n",
        "    device=\"cuda\",             # Target GPU device\n",
        "    C = 0.01,\n",
        "    penalty='l1',         # or 'l1', 'elasticnet', 'none'\n",
        "    solver='liblinear',   # good for small datasets and 'l1' penalty\n",
        "    max_iter=10000,        # increase if convergence warnings appear\n",
        "    #class_weight='balanced',  # handles class imbalance automatically\n",
        "    random_state=42       # ensures reproducibility\n",
        ")"
      ],
      "metadata": {
        "id": "38ia3MNBJJ_a"
      },
      "execution_count": 10,
      "outputs": []
    },
    {
      "cell_type": "code",
      "source": [
        "pipeline_logreg = Pipeline([\n",
        "    ('preprocessing', preprocess),\n",
        "    ('smote', smote),\n",
        "    ('model', logreg)\n",
        "])"
      ],
      "metadata": {
        "id": "ZURVgQoSJMBv"
      },
      "execution_count": 11,
      "outputs": []
    },
    {
      "cell_type": "code",
      "source": [
        "from sklearn.model_selection import GridSearchCV\n",
        "\n",
        "param_grid = {\n",
        "    'model__C': [0.01, 0.1, 1, 10],\n",
        "    'model__penalty': ['l1','l2'],\n",
        "    'model__solver': ['liblinear'],\n",
        "}\n",
        "\n",
        "# GridSearchCV setup\n",
        "grid_search_logreg = GridSearchCV(\n",
        "    pipeline_logreg,\n",
        "    param_grid,\n",
        "    cv=5,                # 5-fold cross-validation\n",
        "    scoring='f1',  # or use another metric\n",
        "    n_jobs=-1            # use all available cores\n",
        ")"
      ],
      "metadata": {
        "id": "_gGFuF4EJOpT"
      },
      "execution_count": 12,
      "outputs": []
    },
    {
      "cell_type": "code",
      "source": [
        "pipeline_logreg.fit(X_train, y_train)\n",
        "\n",
        "from sklearn.metrics import accuracy_score, f1_score, classification_report, confusion_matrix\n",
        "# Evaluate\n",
        "y_pred = pipeline_logreg.predict(X_test)\n",
        "print(\"Accuracy:\", accuracy_score(y_test, y_pred))\n",
        "print(\"F1:\", f1_score(y_test, y_pred))\n",
        "print(confusion_matrix(y_test, y_pred))\n",
        "print(classification_report(y_test, y_pred))"
      ],
      "metadata": {
        "id": "cQOVvfiJJQY1",
        "outputId": "0d76d496-14ba-43ee-a858-f5355d9d4305",
        "colab": {
          "base_uri": "https://localhost:8080/"
        }
      },
      "execution_count": 13,
      "outputs": [
        {
          "output_type": "stream",
          "name": "stderr",
          "text": [
            "/usr/local/lib/python3.12/dist-packages/xgboost/training.py:183: UserWarning: [14:03:41] WARNING: /workspace/src/learner.cc:738: \n",
            "Parameters: { \"C\", \"max_iter\", \"penalty\", \"predictor\", \"solver\" } are not used.\n",
            "\n",
            "  bst.update(dtrain, iteration=i, fobj=obj)\n"
          ]
        },
        {
          "output_type": "stream",
          "name": "stdout",
          "text": [
            "Accuracy: 0.8332425661692626\n",
            "F1: 0.24840451644575356\n",
            "[[7397  262]\n",
            " [1269  253]]\n",
            "              precision    recall  f1-score   support\n",
            "\n",
            "           0       0.85      0.97      0.91      7659\n",
            "           1       0.49      0.17      0.25      1522\n",
            "\n",
            "    accuracy                           0.83      9181\n",
            "   macro avg       0.67      0.57      0.58      9181\n",
            "weighted avg       0.79      0.83      0.80      9181\n",
            "\n"
          ]
        },
        {
          "output_type": "stream",
          "name": "stderr",
          "text": [
            "/usr/local/lib/python3.12/dist-packages/xgboost/core.py:729: UserWarning: [14:03:41] WARNING: /workspace/src/common/error_msg.cc:58: Falling back to prediction using DMatrix due to mismatched devices. This might lead to higher memory usage and slower performance. XGBoost is running on: cuda:0, while the input data is on: cpu.\n",
            "Potential solutions:\n",
            "- Use a data structure that matches the device ordinal in the booster.\n",
            "- Set the device for booster before call to inplace_predict.\n",
            "\n",
            "This warning will only be shown once.\n",
            "\n",
            "  return func(**kwargs)\n"
          ]
        }
      ]
    },
    {
      "cell_type": "code",
      "source": [
        "'''\n",
        "# Fit grid search on your data\n",
        "grid_search_logreg.fit(X_train, y_train)\n",
        "\n",
        "print(\"Best params:\", grid_search.best_params_)\n",
        "print(\"Best CV score:\", grid_search.best_score_)\n",
        "print(\"Test F1:\", grid_search.score(X_test, y_test))\n",
        "'''"
      ],
      "metadata": {
        "id": "uL85fQXIJQwW",
        "outputId": "e3507c0b-dff6-4b38-db9b-7f7452201772",
        "colab": {
          "base_uri": "https://localhost:8080/",
          "height": 55
        }
      },
      "execution_count": 14,
      "outputs": [
        {
          "output_type": "execute_result",
          "data": {
            "text/plain": [
              "'\\n# Fit grid search on your data\\ngrid_search_logreg.fit(X_train, y_train)\\n\\nprint(\"Best params:\", grid_search.best_params_)\\nprint(\"Best CV score:\", grid_search.best_score_)\\nprint(\"Test F1:\", grid_search.score(X_test, y_test))\\n'"
            ],
            "application/vnd.google.colaboratory.intrinsic+json": {
              "type": "string"
            }
          },
          "metadata": {},
          "execution_count": 14
        }
      ]
    },
    {
      "cell_type": "markdown",
      "source": [
        "![image.png](data:image/png;base64,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)"
      ],
      "metadata": {
        "id": "1k0ILYdXJSin"
      }
    },
    {
      "cell_type": "markdown",
      "source": [
        "### XG Boost"
      ],
      "metadata": {
        "id": "m9tkC_TdJXHC"
      }
    },
    {
      "cell_type": "code",
      "source": [
        "from xgboost import XGBClassifier as xgb\n",
        "xgb = xgb(\n",
        "    # --- Core settings ---\n",
        "    objective=\"binary:logistic\",   # Binary classification\n",
        "    eval_metric=\"logloss\",         # Could also use 'auc', 'aucpr', or 'f1'\n",
        "    random_state=42,\n",
        "    use_label_encoder=False,\n",
        "\n",
        "    # --- Model complexity ---\n",
        "    n_estimators=300,              # Number of boosting rounds (trees)\n",
        "    max_depth=6,                   # Max tree depth\n",
        "    min_child_weight=1,            # Minimum sum of instance weight in a leaf\n",
        "\n",
        "    # --- Learning & sampling ---\n",
        "    learning_rate=0.1,             # Step size shrinkage\n",
        "\n",
        "    # --- Regularization ---\n",
        "    gamma=0,                        # Minimum loss reduction for a split\n",
        "    reg_alpha=0.0,                  # L1 regularization\n",
        "    reg_lambda=1.0,                 # L2 regularization\n",
        "\n",
        "    # --- Class imbalance ---\n",
        "    #scale_pos_weight=1.0,           # Set to (neg/pos) ratio in training set\n",
        "\n",
        "    # --- Performance ---\n",
        "    n_jobs=-1,                      # Use all CPU cores\n",
        "    tree_method=\"hist\", device=\"cuda\",            # Fast, memory-efficient\n",
        "    predictor=\"gpu_predictor\"   # GPU inference\n",
        ")\n",
        "\n",
        "\n",
        "\n",
        "pipeline_xgb = Pipeline([\n",
        "    ('preprocessing', preprocess),\n",
        "    ('smote', smote),\n",
        "    ('model', xgb)\n",
        "])"
      ],
      "metadata": {
        "id": "7JC_Ljf3JXbH"
      },
      "execution_count": 18,
      "outputs": []
    },
    {
      "cell_type": "code",
      "source": [
        "# Now you can call the function from the library\n",
        "gpu_available = xgb.core._has_cuda_support()\n",
        "print(\"GPU available for XGBoost:\", gpu_available)"
      ],
      "metadata": {
        "id": "EPVGGkUylWcc",
        "outputId": "cf593ed2-94f4-4111-f25e-32efa3f21aad",
        "colab": {
          "base_uri": "https://localhost:8080/",
          "height": 185
        }
      },
      "execution_count": 20,
      "outputs": [
        {
          "output_type": "error",
          "ename": "AttributeError",
          "evalue": "'XGBClassifier' object has no attribute 'core'",
          "traceback": [
            "\u001b[0;31m---------------------------------------------------------------------------\u001b[0m",
            "\u001b[0;31mAttributeError\u001b[0m                            Traceback (most recent call last)",
            "\u001b[0;32m/tmp/ipython-input-1934843497.py\u001b[0m in \u001b[0;36m<cell line: 0>\u001b[0;34m()\u001b[0m\n\u001b[1;32m      1\u001b[0m \u001b[0;31m# Now you can call the function from the library\u001b[0m\u001b[0;34m\u001b[0m\u001b[0;34m\u001b[0m\u001b[0m\n\u001b[0;32m----> 2\u001b[0;31m \u001b[0mgpu_available\u001b[0m \u001b[0;34m=\u001b[0m \u001b[0mxgb\u001b[0m\u001b[0;34m.\u001b[0m\u001b[0mcore\u001b[0m\u001b[0;34m.\u001b[0m\u001b[0m_has_cuda_support\u001b[0m\u001b[0;34m(\u001b[0m\u001b[0;34m)\u001b[0m\u001b[0;34m\u001b[0m\u001b[0;34m\u001b[0m\u001b[0m\n\u001b[0m\u001b[1;32m      3\u001b[0m \u001b[0mprint\u001b[0m\u001b[0;34m(\u001b[0m\u001b[0;34m\"GPU available for XGBoost:\"\u001b[0m\u001b[0;34m,\u001b[0m \u001b[0mgpu_available\u001b[0m\u001b[0;34m)\u001b[0m\u001b[0;34m\u001b[0m\u001b[0;34m\u001b[0m\u001b[0m\n",
            "\u001b[0;31mAttributeError\u001b[0m: 'XGBClassifier' object has no attribute 'core'"
          ]
        }
      ]
    },
    {
      "cell_type": "code",
      "source": [
        "from sklearn.model_selection import GridSearchCV\n",
        "from sklearn.model_selection import RandomizedSearchCV\n",
        "from scipy.stats import randint, uniform\n",
        "\n",
        "# Define parameter grid for the most impactful XGB params\n",
        "param_grid_xgb = {\n",
        "    'model__n_estimators': [200, 300, 500],       # Number of trees\n",
        "    'model__max_depth': [4, 6, 8],                # Tree depth\n",
        "    'model__learning_rate': [0.01, 0.1, 0.3],     # Step size\n",
        "    'model__min_child_weight': [1, 3, 5],         # Min weight per leaf\n",
        "    'model__gamma': [0, 0.1, 0.3],                # Min loss reduction for split\n",
        "    #'model__scale_pos_weight': [1, 5]             # Class imbalance handling\n",
        "}\n",
        "\n",
        "# GridSearchCV setup\n",
        "grid_search_xgb = GridSearchCV(\n",
        "    pipeline_xgb,\n",
        "    param_grid=param_grid_xgb,\n",
        "    cv=5,                  # 5-fold cross-validation\n",
        "    scoring='f1',      # Focus on F1 for cancellations\n",
        "    n_jobs=-1,             # Use all CPU cores for preprocessing/SMOTE\n",
        "    verbose=2\n",
        ")\n",
        "\n",
        "\n",
        "param_dist_xgb = {\n",
        "    'model__n_estimators': randint(200, 500),\n",
        "    'model__max_depth': randint(3, 8),\n",
        "    'model__learning_rate': uniform(0.01, 0.3),\n",
        "    'model__min_child_weight': randint(1, 6),\n",
        "    'model__gamma': uniform(0, 0.5),\n",
        "    'model__subsample': uniform(0.7, 0.3),\n",
        "    'model__colsample_bytree': uniform(0.7, 0.3),\n",
        "    'model__scale_pos_weight': [1, (y_train == 0).sum() / (y_train == 1).sum()]\n",
        "}\n",
        "\n",
        "\n",
        "random_search_xgb = RandomizedSearchCV(\n",
        "    pipeline_xgb,\n",
        "    param_distributions=param_dist_xgb,\n",
        "    n_iter=30,                     # Try 30 random combos\n",
        "    cv=5,\n",
        "    scoring='f1',\n",
        "    n_jobs=-1,\n",
        "    verbose=2,\n",
        "    random_state=42\n",
        ")"
      ],
      "metadata": {
        "id": "qZDxWgqRJbKr"
      },
      "execution_count": null,
      "outputs": []
    },
    {
      "cell_type": "code",
      "source": [
        "booster = grid_search_xgb.best_estimator_.get_booster()\n",
        "print(\"Using GPU:\", booster.attributes().get(\"predictor\"))\n",
        "grid_search_xgb.fit(X_train, y_train)\n",
        "\n",
        "print(\"Best params:\", grid_search_xgb.best_params_)\n",
        "print(\"Best CV score:\", grid_search_xgb.best_score_)\n",
        "print(\"Test F1:\", grid_search_xgb.score(X_test, y_test))\n",
        "\n",
        "y_pred = grid_search_xgb.predict(X_test)\n",
        "print(\"Accuracy:\", accuracy_score(y_test, y_pred))\n",
        "print(\"F1:\", f1_score(y_test, y_pred))\n",
        "print(confusion_matrix(y_test, y_pred))\n",
        "print(classification_report(y_test, y_pred))"
      ],
      "metadata": {
        "id": "TmFQEAd9Jdcv"
      },
      "execution_count": null,
      "outputs": []
    },
    {
      "cell_type": "code",
      "source": [
        "import joblib\n",
        "\n",
        "# Extract the best fitted pipeline (preprocessing + SMOTE + XGB)\n",
        "best_xgb_pipeline = grid_search_xgb.best_estimator_\n",
        "\n",
        "# Save to file\n",
        "joblib.dump(best_xgb_pipeline, \"best_xgb_pipeline.pkl\")\n",
        "print(\"Model saved to best_xgb_pipeline.pkl\")"
      ],
      "metadata": {
        "id": "aS_gqIdJJgNl"
      },
      "execution_count": null,
      "outputs": []
    }
  ]
}