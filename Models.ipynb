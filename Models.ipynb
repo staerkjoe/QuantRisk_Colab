{
  "nbformat": 4,
  "nbformat_minor": 0,
  "metadata": {
    "colab": {
      "provenance": [],
      "authorship_tag": "ABX9TyPqzu+s6MzjDM28QLIrkDVH",
      "include_colab_link": true
    },
    "kernelspec": {
      "name": "python3",
      "display_name": "Python 3"
    },
    "language_info": {
      "name": "python"
    }
  },
  "cells": [
    {
      "cell_type": "markdown",
      "metadata": {
        "id": "view-in-github",
        "colab_type": "text"
      },
      "source": [
        "<a href=\"https://colab.research.google.com/github/staerkjoe/QuantRisk_Colab/blob/main/Models.ipynb\" target=\"_parent\"><img src=\"https://colab.research.google.com/assets/colab-badge.svg\" alt=\"Open In Colab\"/></a>"
      ]
    },
    {
      "cell_type": "code",
      "execution_count": 1,
      "metadata": {
        "colab": {
          "base_uri": "https://localhost:8080/"
        },
        "id": "-zC3o55pIwnw",
        "outputId": "bb78d037-69b9-4d1c-8f44-81e1c8d1e0d7"
      },
      "outputs": [
        {
          "output_type": "stream",
          "name": "stdout",
          "text": [
            "Mounted at /content/drive\n"
          ]
        }
      ],
      "source": [
        "from google.colab import drive\n",
        "\n",
        "# Mount Google Drive\n",
        "drive.mount('/content/drive')"
      ]
    },
    {
      "cell_type": "markdown",
      "source": [
        "Link to dataset: https://www.kaggle.com/datasets/pkdarabi/classification-of-travel-purpose"
      ],
      "metadata": {
        "id": "upBR3H4eJ-hF"
      }
    },
    {
      "cell_type": "code",
      "source": [
        "!pip install unidecode"
      ],
      "metadata": {
        "colab": {
          "base_uri": "https://localhost:8080/"
        },
        "id": "KC3n0ghvJ3ef",
        "outputId": "f9789728-e311-471b-84cf-0f932155d5e3"
      },
      "execution_count": 4,
      "outputs": [
        {
          "output_type": "stream",
          "name": "stdout",
          "text": [
            "Collecting unidecode\n",
            "  Downloading Unidecode-1.4.0-py3-none-any.whl.metadata (13 kB)\n",
            "Downloading Unidecode-1.4.0-py3-none-any.whl (235 kB)\n",
            "\u001b[?25l   \u001b[90m━━━━━━━━━━━━━━━━━━━━━━━━━━━━━━━━━━━━━━━━\u001b[0m \u001b[32m0.0/235.8 kB\u001b[0m \u001b[31m?\u001b[0m eta \u001b[36m-:--:--\u001b[0m\r\u001b[2K   \u001b[91m━━━━━━━━━━━━━━━━━━━━━━━━━━━━━\u001b[0m\u001b[91m╸\u001b[0m\u001b[90m━━━━━━━━━━\u001b[0m \u001b[32m174.1/235.8 kB\u001b[0m \u001b[31m5.0 MB/s\u001b[0m eta \u001b[36m0:00:01\u001b[0m\r\u001b[2K   \u001b[90m━━━━━━━━━━━━━━━━━━━━━━━━━━━━━━━━━━━━━━━━\u001b[0m \u001b[32m235.8/235.8 kB\u001b[0m \u001b[31m4.4 MB/s\u001b[0m eta \u001b[36m0:00:00\u001b[0m\n",
            "\u001b[?25hInstalling collected packages: unidecode\n",
            "Successfully installed unidecode-1.4.0\n"
          ]
        }
      ]
    },
    {
      "cell_type": "code",
      "source": [
        "import tensorflow as tf\n",
        "import tf_keras as keras\n",
        "import pandas as pd\n",
        "# note: tensorflow 2.17 onwards uses tf.keras 3.0 internally,\n",
        "# which seem to be still bugged and inconsistent.\n",
        "# We therefore use tf_keras in according to tensorflow version.\n",
        "\n",
        "import numpy as np\n",
        "import os\n",
        "import time\n",
        "from unidecode import unidecode"
      ],
      "metadata": {
        "id": "l98xt8TQJzdH"
      },
      "execution_count": 5,
      "outputs": []
    },
    {
      "cell_type": "code",
      "source": [
        "path = '/content/drive/MyDrive/Colab Notebooks/QantRisk'\n",
        "df = pd.read_csv(os.path.join(path, \"cleaned_data.csv\"))"
      ],
      "metadata": {
        "id": "mlQz2tsHI0JU"
      },
      "execution_count": 6,
      "outputs": []
    },
    {
      "cell_type": "code",
      "source": [
        "from sklearn.preprocessing import OneHotEncoder\n",
        "from sklearn.compose import ColumnTransformer\n",
        "from sklearn.preprocessing import StandardScaler\n",
        "from imblearn.pipeline import Pipeline\n",
        "from sklearn.linear_model import LogisticRegression\n",
        "\n",
        "\n",
        "\n",
        "numeric_cols = [\n",
        "    'Price','CouponDiscount','DiscountRatio',\n",
        "    'FromFreq','ToFreq','LeadTime',\n",
        "    'IsWeekend','BookingWeekday','DepartureWeekday',\n",
        "    'DepartureHour','BookingHour','BookingMonth','DepartureMonth'\n",
        "]\n",
        "categorical_cols = ['TripReason', 'VIPStatus','Vehicle']\n",
        "\n",
        "\n",
        "preprocess = ColumnTransformer(\n",
        "    transformers=[\n",
        "        ('num', StandardScaler(), numeric_cols),\n",
        "        ('cat', OneHotEncoder(handle_unknown='ignore', sparse_output=False), categorical_cols)\n",
        "    ],\n",
        "    remainder='drop'\n",
        ")"
      ],
      "metadata": {
        "id": "UOQpdeEGJFqe"
      },
      "execution_count": null,
      "outputs": []
    },
    {
      "cell_type": "code",
      "source": [
        "from sklearn.model_selection import train_test_split\n",
        "\n",
        "X = df.drop(columns='Cancel')  # Features\n",
        "y = df['Cancel']               # Target\n",
        "\n",
        "X_train, X_test, y_train, y_test = train_test_split(\n",
        "    X, y, test_size=0.2, random_state=42, stratify=y\n",
        ")\n"
      ],
      "metadata": {
        "id": "GHy91DazJGVt"
      },
      "execution_count": null,
      "outputs": []
    },
    {
      "cell_type": "code",
      "source": [
        "from imblearn.over_sampling import SMOTE\n",
        "\n",
        "smote = SMOTE(random_state=42)"
      ],
      "metadata": {
        "id": "j4GgjYZ3JJMY"
      },
      "execution_count": null,
      "outputs": []
    },
    {
      "cell_type": "code",
      "source": [
        "logreg = LogisticRegression(\n",
        "    C = 0.01,\n",
        "    penalty='l1',         # or 'l1', 'elasticnet', 'none'\n",
        "    solver='liblinear',   # good for small datasets and 'l1' penalty\n",
        "    max_iter=10000,        # increase if convergence warnings appear\n",
        "    #class_weight='balanced',  # handles class imbalance automatically\n",
        "    random_state=42       # ensures reproducibility\n",
        ")"
      ],
      "metadata": {
        "id": "38ia3MNBJJ_a"
      },
      "execution_count": null,
      "outputs": []
    },
    {
      "cell_type": "code",
      "source": [
        "pipeline_logreg = Pipeline([\n",
        "    ('preprocessing', preprocess),\n",
        "    ('smote', smote),\n",
        "    ('model', logreg)\n",
        "])"
      ],
      "metadata": {
        "id": "ZURVgQoSJMBv"
      },
      "execution_count": null,
      "outputs": []
    },
    {
      "cell_type": "code",
      "source": [
        "from sklearn.model_selection import GridSearchCV\n",
        "\n",
        "param_grid = {\n",
        "    'model__C': [0.01, 0.1, 1, 10],\n",
        "    'model__penalty': ['l1','l2'],\n",
        "    'model__solver': ['liblinear'],\n",
        "}\n",
        "\n",
        "# GridSearchCV setup\n",
        "grid_search_logreg = GridSearchCV(\n",
        "    pipeline_logreg,\n",
        "    param_grid,\n",
        "    cv=5,                # 5-fold cross-validation\n",
        "    scoring='f1',  # or use another metric\n",
        "    n_jobs=-1            # use all available cores\n",
        ")"
      ],
      "metadata": {
        "id": "_gGFuF4EJOpT"
      },
      "execution_count": null,
      "outputs": []
    },
    {
      "cell_type": "code",
      "source": [
        "pipeline_logreg.fit(X_train, y_train)\n",
        "\n",
        "from sklearn.metrics import accuracy_score, f1_score, classification_report, confusion_matrix\n",
        "# Evaluate\n",
        "y_pred = pipeline_logreg.predict(X_test)\n",
        "print(\"Accuracy:\", accuracy_score(y_test, y_pred))\n",
        "print(\"F1:\", f1_score(y_test, y_pred))\n",
        "print(confusion_matrix(y_test, y_pred))\n",
        "print(classification_report(y_test, y_pred))"
      ],
      "metadata": {
        "id": "cQOVvfiJJQY1"
      },
      "execution_count": null,
      "outputs": []
    },
    {
      "cell_type": "code",
      "source": [
        "'''\n",
        "# Fit grid search on your data\n",
        "grid_search_logreg.fit(X_train, y_train)\n",
        "\n",
        "print(\"Best params:\", grid_search.best_params_)\n",
        "print(\"Best CV score:\", grid_search.best_score_)\n",
        "print(\"Test F1:\", grid_search.score(X_test, y_test))\n",
        "'''"
      ],
      "metadata": {
        "id": "uL85fQXIJQwW"
      },
      "execution_count": null,
      "outputs": []
    },
    {
      "cell_type": "markdown",
      "source": [
        "![image.png](data:image/png;base64,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)"
      ],
      "metadata": {
        "id": "1k0ILYdXJSin"
      }
    },
    {
      "cell_type": "markdown",
      "source": [
        "### XG Boost"
      ],
      "metadata": {
        "id": "m9tkC_TdJXHC"
      }
    },
    {
      "cell_type": "code",
      "source": [
        "from xgboost import XGBClassifier\n",
        "xgb = XGBClassifier(\n",
        "    # --- Core settings ---\n",
        "    objective=\"binary:logistic\",   # Binary classification\n",
        "    eval_metric=\"logloss\",         # Could also use 'auc', 'aucpr', or 'f1'\n",
        "    random_state=42,\n",
        "    use_label_encoder=False,\n",
        "\n",
        "    # --- Model complexity ---\n",
        "    n_estimators=300,              # Number of boosting rounds (trees)\n",
        "    max_depth=6,                   # Max tree depth\n",
        "    min_child_weight=1,            # Minimum sum of instance weight in a leaf\n",
        "\n",
        "    # --- Learning & sampling ---\n",
        "    learning_rate=0.1,             # Step size shrinkage\n",
        "\n",
        "    # --- Regularization ---\n",
        "    gamma=0,                        # Minimum loss reduction for a split\n",
        "    reg_alpha=0.0,                  # L1 regularization\n",
        "    reg_lambda=1.0,                 # L2 regularization\n",
        "\n",
        "    # --- Class imbalance ---\n",
        "    #scale_pos_weight=1.0,           # Set to (neg/pos) ratio in training set\n",
        "\n",
        "    # --- Performance ---\n",
        "    n_jobs=-1,                      # Use all CPU cores\n",
        "    tree_method=\"hist\", device=\"cuda\"            # Fast, memory-efficient\n",
        "    predictor=\"gpu_predictor\"   # GPU inference\n",
        ")\n",
        "\n",
        "\n",
        "\n",
        "pipeline_xgb = Pipeline([\n",
        "    ('preprocessing', preprocess),\n",
        "    ('smote', smote),\n",
        "    ('model', xgb)\n",
        "])"
      ],
      "metadata": {
        "id": "7JC_Ljf3JXbH"
      },
      "execution_count": null,
      "outputs": []
    },
    {
      "cell_type": "code",
      "source": [
        "from sklearn.model_selection import GridSearchCV\n",
        "from sklearn.model_selection import RandomizedSearchCV\n",
        "from scipy.stats import randint, uniform\n",
        "\n",
        "# Define parameter grid for the most impactful XGB params\n",
        "param_grid_xgb = {\n",
        "    'model__n_estimators': [200, 300, 500],       # Number of trees\n",
        "    'model__max_depth': [4, 6, 8],                # Tree depth\n",
        "    'model__learning_rate': [0.01, 0.1, 0.3],     # Step size\n",
        "    'model__min_child_weight': [1, 3, 5],         # Min weight per leaf\n",
        "    'model__gamma': [0, 0.1, 0.3],                # Min loss reduction for split\n",
        "    #'model__scale_pos_weight': [1, 5]             # Class imbalance handling\n",
        "}\n",
        "\n",
        "# GridSearchCV setup\n",
        "grid_search_xgb = GridSearchCV(\n",
        "    pipeline_xgb,\n",
        "    param_grid=param_grid_xgb,\n",
        "    cv=5,                  # 5-fold cross-validation\n",
        "    scoring='f1',      # Focus on F1 for cancellations\n",
        "    n_jobs=-1,             # Use all CPU cores for preprocessing/SMOTE\n",
        "    verbose=2\n",
        ")\n",
        "\n",
        "\n",
        "param_dist_xgb = {\n",
        "    'model__n_estimators': randint(200, 500),\n",
        "    'model__max_depth': randint(3, 8),\n",
        "    'model__learning_rate': uniform(0.01, 0.3),\n",
        "    'model__min_child_weight': randint(1, 6),\n",
        "    'model__gamma': uniform(0, 0.5),\n",
        "    'model__subsample': uniform(0.7, 0.3),\n",
        "    'model__colsample_bytree': uniform(0.7, 0.3),\n",
        "    'model__scale_pos_weight': [1, (y_train == 0).sum() / (y_train == 1).sum()]\n",
        "}\n",
        "\n",
        "\n",
        "random_search_xgb = RandomizedSearchCV(\n",
        "    pipeline_xgb,\n",
        "    param_distributions=param_dist_xgb,\n",
        "    n_iter=30,                     # Try 30 random combos\n",
        "    cv=5,\n",
        "    scoring='f1',\n",
        "    n_jobs=-1,\n",
        "    verbose=2,\n",
        "    random_state=42\n",
        ")"
      ],
      "metadata": {
        "id": "qZDxWgqRJbKr"
      },
      "execution_count": null,
      "outputs": []
    },
    {
      "cell_type": "code",
      "source": [
        "grid_search_xgb.fit(X_train, y_train)\n",
        "\n",
        "print(\"Best params:\", grid_search_xgb.best_params_)\n",
        "print(\"Best CV score:\", grid_search_xgb.best_score_)\n",
        "print(\"Test F1:\", grid_search_xgb.score(X_test, y_test))\n",
        "\n",
        "y_pred = grid_search_xgb.predict(X_test)\n",
        "print(\"Accuracy:\", accuracy_score(y_test, y_pred))\n",
        "print(\"F1:\", f1_score(y_test, y_pred))\n",
        "print(confusion_matrix(y_test, y_pred))\n",
        "print(classification_report(y_test, y_pred))"
      ],
      "metadata": {
        "id": "TmFQEAd9Jdcv"
      },
      "execution_count": null,
      "outputs": []
    },
    {
      "cell_type": "code",
      "source": [
        "import joblib\n",
        "\n",
        "# Extract the best fitted pipeline (preprocessing + SMOTE + XGB)\n",
        "best_xgb_pipeline = grid_search_xgb.best_estimator_\n",
        "\n",
        "# Save to file\n",
        "joblib.dump(best_xgb_pipeline, \"best_xgb_pipeline.pkl\")\n",
        "print(\"Model saved to best_xgb_pipeline.pkl\")"
      ],
      "metadata": {
        "id": "aS_gqIdJJgNl"
      },
      "execution_count": null,
      "outputs": []
    }
  ]
}