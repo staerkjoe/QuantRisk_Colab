{
  "nbformat": 4,
  "nbformat_minor": 0,
  "metadata": {
    "colab": {
      "provenance": [],
      "gpuType": "T4",
      "authorship_tag": "ABX9TyNov7VNUpSCbIlJr+9a95R9",
      "include_colab_link": true
    },
    "kernelspec": {
      "name": "python3",
      "display_name": "Python 3"
    },
    "language_info": {
      "name": "python"
    },
    "accelerator": "GPU"
  },
  "cells": [
    {
      "cell_type": "markdown",
      "metadata": {
        "id": "view-in-github",
        "colab_type": "text"
      },
      "source": [
        "<a href=\"https://colab.research.google.com/github/staerkjoe/QuantRisk_Colab/blob/main/TicketCancellation.ipynb\" target=\"_parent\"><img src=\"https://colab.research.google.com/assets/colab-badge.svg\" alt=\"Open In Colab\"/></a>"
      ]
    },
    {
      "cell_type": "code",
      "source": [
        "from google.colab import drive\n",
        "\n",
        "# Mount Google Drive\n",
        "drive.mount('/content/drive')"
      ],
      "metadata": {
        "colab": {
          "base_uri": "https://localhost:8080/"
        },
        "id": "dRAOQl-eHPB-",
        "outputId": "7940f3a8-2398-4b62-bd15-0b940612b808"
      },
      "execution_count": 2,
      "outputs": [
        {
          "output_type": "stream",
          "name": "stdout",
          "text": [
            "Mounted at /content/drive\n"
          ]
        }
      ]
    },
    {
      "cell_type": "code",
      "execution_count": 3,
      "metadata": {
        "id": "AkctrGk8exjP",
        "colab": {
          "base_uri": "https://localhost:8080/"
        },
        "outputId": "99a224f7-d854-472c-f0f3-c6b9b36cec79"
      },
      "outputs": [
        {
          "output_type": "stream",
          "name": "stdout",
          "text": [
            "Downloading from https://www.kaggle.com/api/v1/datasets/download/pkdarabi/classification-of-travel-purpose?dataset_version_number=1...\n"
          ]
        },
        {
          "output_type": "stream",
          "name": "stderr",
          "text": [
            "100%|██████████| 7.30M/7.30M [00:00<00:00, 116MB/s]"
          ]
        },
        {
          "output_type": "stream",
          "name": "stdout",
          "text": [
            "Extracting files...\n"
          ]
        },
        {
          "output_type": "stream",
          "name": "stderr",
          "text": [
            "\n"
          ]
        },
        {
          "output_type": "stream",
          "name": "stdout",
          "text": [
            "Path to dataset files: /root/.cache/kagglehub/datasets/pkdarabi/classification-of-travel-purpose/versions/1\n"
          ]
        }
      ],
      "source": [
        "import kagglehub\n",
        "\n",
        "# Download latest version\n",
        "path = kagglehub.dataset_download(\"pkdarabi/classification-of-travel-purpose\")\n",
        "\n",
        "print(\"Path to dataset files:\", path)"
      ]
    },
    {
      "cell_type": "markdown",
      "source": [
        "Link to dataset:\n",
        "https://www.kaggle.com/datasets/pkdarabi/classification-of-travel-purpose"
      ],
      "metadata": {
        "id": "n4HaE3IJoHil"
      }
    },
    {
      "cell_type": "code",
      "source": [
        "!pip install unidecode"
      ],
      "metadata": {
        "id": "YbGf-VezzTIP",
        "outputId": "8f7086c4-9aad-4fba-f4af-4836744cbd29",
        "colab": {
          "base_uri": "https://localhost:8080/"
        }
      },
      "execution_count": 4,
      "outputs": [
        {
          "output_type": "stream",
          "name": "stdout",
          "text": [
            "Collecting unidecode\n",
            "  Downloading Unidecode-1.4.0-py3-none-any.whl.metadata (13 kB)\n",
            "Downloading Unidecode-1.4.0-py3-none-any.whl (235 kB)\n",
            "\u001b[?25l   \u001b[90m━━━━━━━━━━━━━━━━━━━━━━━━━━━━━━━━━━━━━━━━\u001b[0m \u001b[32m0.0/235.8 kB\u001b[0m \u001b[31m?\u001b[0m eta \u001b[36m-:--:--\u001b[0m\r\u001b[2K   \u001b[90m━━━━━━━━━━━━━━━━━━━━━━━━━━━━━━━━━━━━━━━━\u001b[0m \u001b[32m235.8/235.8 kB\u001b[0m \u001b[31m7.3 MB/s\u001b[0m eta \u001b[36m0:00:00\u001b[0m\n",
            "\u001b[?25hInstalling collected packages: unidecode\n",
            "Successfully installed unidecode-1.4.0\n"
          ]
        }
      ]
    },
    {
      "cell_type": "code",
      "source": [
        "import pandas as pd\n",
        "import numpy as np\n",
        "import os\n",
        "import time\n",
        "from unidecode import unidecode"
      ],
      "metadata": {
        "id": "aTjNRTYDfT5G"
      },
      "execution_count": 5,
      "outputs": []
    },
    {
      "cell_type": "code",
      "source": [
        "for file in os.listdir(path):\n",
        "    print(file)"
      ],
      "metadata": {
        "colab": {
          "base_uri": "https://localhost:8080/"
        },
        "id": "MyzVc2iihsSM",
        "outputId": "d12ef47c-205c-4e3a-ffae-118f95c0815e"
      },
      "execution_count": 6,
      "outputs": [
        {
          "output_type": "stream",
          "name": "stdout",
          "text": [
            "train_data.csv\n"
          ]
        }
      ]
    },
    {
      "cell_type": "code",
      "source": [
        "df = pd.read_csv(os.path.join(path, \"train_data.csv\"))"
      ],
      "metadata": {
        "id": "kP1swOKDfut7"
      },
      "execution_count": 7,
      "outputs": []
    },
    {
      "cell_type": "code",
      "source": [
        "# drop columns that are unnecessary/not helpful for prediction\n",
        "\n",
        "# List of columns to drop\n",
        "drop_cols = [\n",
        "    'BillID',               # Unique identifier\n",
        "    'TicketID',             # Unique identifier\n",
        "    'UserID',               # Sparse and semi-unique\n",
        "    'BuyerMobile',          # Personal identifier\n",
        "    'NationalCode',         # Personal identifier\n",
        "    'HashPassportNumber_p', # Sparse and hashed\n",
        "    'HashEmail',            # Sparse and hashed\n",
        "    'CancelTime',           # Leaks target label\n",
        "    'VehicleType'\n",
        "]\n",
        "\n",
        "# Drop columns from DataFrame\n",
        "df = df.drop(columns=drop_cols)\n",
        "\n",
        "# Optional: Confirm result\n",
        "print(\"Remaining columns:\", df.columns.tolist())\n",
        "\n",
        "\n"
      ],
      "metadata": {
        "colab": {
          "base_uri": "https://localhost:8080/"
        },
        "id": "c7XD0U7Kh7l5",
        "outputId": "c22535c5-5796-40d9-cb62-9afa46542599"
      },
      "execution_count": 8,
      "outputs": [
        {
          "output_type": "stream",
          "name": "stdout",
          "text": [
            "Remaining columns: ['Created', 'DepartureTime', 'ReserveStatus', 'Male', 'Price', 'CouponDiscount', 'From', 'To', 'Domestic', 'VehicleClass', 'TripReason', 'Vehicle', 'Cancel']\n"
          ]
        }
      ]
    },
    {
      "cell_type": "code",
      "source": [
        "# Drop Nulla values for From and TO\n",
        "df = df.dropna(subset=['From', 'To'])\n",
        "\n",
        "# Combine 'From' and 'To' columns to create a list of all cities\n",
        "all_cities = df['From'].tolist() + df['To'].tolist()\n",
        "\n",
        "# Create a set of unique cities and convert it back to a list\n",
        "unique_cities = list(set(all_cities))\n",
        "\n",
        "# print(unique_cities)\n",
        "\n",
        "# Mapping erstellen\n",
        "city_mapping = {city: unidecode(city) for city in unique_cities}\n",
        "\n",
        "'''\n",
        "# Ausgabe als Dictionary\n",
        "print(\"city_mapping = {\")\n",
        "for k, v in city_mapping.items():\n",
        "    print(f\"    '{k}': '{v}',\")\n",
        "print(\"}\")\n",
        "'''"
      ],
      "metadata": {
        "id": "BhR66NYhu-Jy",
        "outputId": "021429e7-99f3-4331-91af-bcd39f63d7e5",
        "colab": {
          "base_uri": "https://localhost:8080/",
          "height": 55
        }
      },
      "execution_count": 9,
      "outputs": [
        {
          "output_type": "execute_result",
          "data": {
            "text/plain": [
              "'\\n# Ausgabe als Dictionary\\nprint(\"city_mapping = {\")\\nfor k, v in city_mapping.items():\\n    print(f\"    \\'{k}\\': \\'{v}\\',\")\\nprint(\"}\")\\n'"
            ],
            "application/vnd.google.colaboratory.intrinsic+json": {
              "type": "string"
            }
          },
          "metadata": {},
          "execution_count": 9
        }
      ]
    },
    {
      "cell_type": "code",
      "source": [
        "def normalize_city_name(name):\n",
        "    if pd.isna(name):\n",
        "        return None\n",
        "    return (\n",
        "        str(name)\n",
        "        .strip()\n",
        "        .replace('\\u200c', '')  # remove zero-width non-joiner\n",
        "        .replace(' (', '(')\n",
        "        .replace(')', ')')\n",
        "        .replace('‌', '')       # remove zero-width joiner\n",
        "    )\n",
        "\n",
        "def safe_unidecode(value):\n",
        "    if pd.isna(value):\n",
        "        return \"\"\n",
        "    return unidecode(str(value))\n",
        "\n",
        "df['From'] = df['From'].apply(normalize_city_name).map(city_mapping).apply(safe_unidecode)\n",
        "df['To'] = df['To'].apply(normalize_city_name).map(city_mapping).apply(safe_unidecode)\n",
        "\n",
        "df['FromMapped'] = df['From'].isin(city_mapping.values())\n",
        "df['ToMapped'] = df['To'].isin(city_mapping.values())\n",
        "\n",
        "# keep only rows where both 'From' and 'To' were mapped\n",
        "df = df[df[\"FromMapped\"] & df[\"ToMapped\"]].copy()\n",
        "# drop mapping flags\n",
        "df.drop(columns=[\"FromMapped\", \"ToMapped\"], inplace=True)"
      ],
      "metadata": {
        "id": "XE0GI9H1vZgY"
      },
      "execution_count": 10,
      "outputs": []
    },
    {
      "cell_type": "code",
      "source": [
        "df['Price'].describe()"
      ],
      "metadata": {
        "id": "6WLFdU5R4vI9",
        "outputId": "4fd68aaa-8800-467f-c875-0ccffcc85c1e",
        "colab": {
          "base_uri": "https://localhost:8080/",
          "height": 335
        }
      },
      "execution_count": 11,
      "outputs": [
        {
          "output_type": "execute_result",
          "data": {
            "text/plain": [
              "count    9.167200e+04\n",
              "mean     3.333467e+06\n",
              "std      7.696764e+06\n",
              "min     -1.514000e+06\n",
              "25%      1.025000e+06\n",
              "50%      1.680000e+06\n",
              "75%      3.150000e+06\n",
              "max      3.837646e+08\n",
              "Name: Price, dtype: float64"
            ],
            "text/html": [
              "<div>\n",
              "<style scoped>\n",
              "    .dataframe tbody tr th:only-of-type {\n",
              "        vertical-align: middle;\n",
              "    }\n",
              "\n",
              "    .dataframe tbody tr th {\n",
              "        vertical-align: top;\n",
              "    }\n",
              "\n",
              "    .dataframe thead th {\n",
              "        text-align: right;\n",
              "    }\n",
              "</style>\n",
              "<table border=\"1\" class=\"dataframe\">\n",
              "  <thead>\n",
              "    <tr style=\"text-align: right;\">\n",
              "      <th></th>\n",
              "      <th>Price</th>\n",
              "    </tr>\n",
              "  </thead>\n",
              "  <tbody>\n",
              "    <tr>\n",
              "      <th>count</th>\n",
              "      <td>9.167200e+04</td>\n",
              "    </tr>\n",
              "    <tr>\n",
              "      <th>mean</th>\n",
              "      <td>3.333467e+06</td>\n",
              "    </tr>\n",
              "    <tr>\n",
              "      <th>std</th>\n",
              "      <td>7.696764e+06</td>\n",
              "    </tr>\n",
              "    <tr>\n",
              "      <th>min</th>\n",
              "      <td>-1.514000e+06</td>\n",
              "    </tr>\n",
              "    <tr>\n",
              "      <th>25%</th>\n",
              "      <td>1.025000e+06</td>\n",
              "    </tr>\n",
              "    <tr>\n",
              "      <th>50%</th>\n",
              "      <td>1.680000e+06</td>\n",
              "    </tr>\n",
              "    <tr>\n",
              "      <th>75%</th>\n",
              "      <td>3.150000e+06</td>\n",
              "    </tr>\n",
              "    <tr>\n",
              "      <th>max</th>\n",
              "      <td>3.837646e+08</td>\n",
              "    </tr>\n",
              "  </tbody>\n",
              "</table>\n",
              "</div><br><label><b>dtype:</b> float64</label>"
            ]
          },
          "metadata": {},
          "execution_count": 11
        }
      ]
    },
    {
      "cell_type": "code",
      "source": [
        "q25 = df['Price'].quantile(0.25)\n",
        "q75 = df['Price'].quantile(0.75)\n",
        "\n",
        "df = df[(df['Price'] >= q25) & (df['Price'] <= q75)].copy()\n",
        "\n"
      ],
      "metadata": {
        "id": "H6cFlvQm5oE6"
      },
      "execution_count": 12,
      "outputs": []
    },
    {
      "cell_type": "code",
      "source": [
        "# Columns Transformations\n",
        "\n",
        "# Date FOrmat\n",
        "df[['Created', 'DepartureTime']] = df[['Created', 'DepartureTime']].apply(pd.to_datetime)\n",
        "\n",
        "# Price to €\n",
        "exchange_rate = 0.00002027  # 1 IRR = 0.00002027 EUR\n",
        "df['Price'] = (df['Price'] * exchange_rate).round(2)\n",
        "df['CouponDiscount'] = (df['CouponDiscount'] * exchange_rate).round(2)\n"
      ],
      "metadata": {
        "id": "iMpl89nGm0Ip"
      },
      "execution_count": 13,
      "outputs": []
    },
    {
      "cell_type": "code",
      "source": [
        "# Fearure Engineering\n",
        "df['LeadTime'] = (df['DepartureTime'] - df['Created']).dt.total_seconds()\n",
        "df['IsWeekend'] = (df['DepartureTime'].dt.weekday >= 5).astype(int)\n",
        "df['DiscountRatio'] = np.where(df['Price'] > 0, df['CouponDiscount'] / df['Price'], 0)\n",
        "df['BookingMonth'] = df['Created'].dt.month\n",
        "df['DepartureMonth'] = df['DepartureTime'].dt.month\n",
        "df['BookingWeekday'] = df['Created'].dt.weekday\n",
        "df['DepartureWeekday'] = df['DepartureTime'].dt.weekday\n",
        "df['DepartureHour'] = df['DepartureTime'].dt.hour\n",
        "df['BookingHour'] = df['Created'].dt.hour\n",
        "df[\"Male\"] = df[\"Male\"].astype(int)\n",
        "\n",
        "# drop raw datetime columns\n",
        "df.drop(columns=['Created', 'DepartureTime'], inplace=True)"
      ],
      "metadata": {
        "id": "eIbZbBChiwHb"
      },
      "execution_count": 14,
      "outputs": []
    },
    {
      "cell_type": "code",
      "source": [
        "# Rename the column\n",
        "df.rename(columns={'VehicleClass': 'VIPStatus'}, inplace=True)\n",
        "\n",
        "# Replace NaN values with 'Unknown'\n",
        "df['VIPStatus'] = df['VIPStatus'].fillna('Unknown')\n",
        "df[\"VIPStatus\"] = df[\"VIPStatus\"].astype(str)\n"
      ],
      "metadata": {
        "id": "BWnl6lYw9O1S"
      },
      "execution_count": 15,
      "outputs": []
    },
    {
      "cell_type": "code",
      "source": [
        "df.head()"
      ],
      "metadata": {
        "colab": {
          "base_uri": "https://localhost:8080/",
          "height": 226
        },
        "id": "7hawZhQ2lwUm",
        "outputId": "48576cc7-7aec-4b2a-d56d-f7b264a04e7f"
      },
      "execution_count": 16,
      "outputs": [
        {
          "output_type": "execute_result",
          "data": {
            "text/plain": [
              "    ReserveStatus  Male  Price  CouponDiscount   From     To  Domestic  \\\n",
              "2               3     0  40.54             0.0  shyrz    hwz         1   \n",
              "7               3     1  50.27             0.0   thrn  shyrz         1   \n",
              "8               3     1  24.73             0.0   thrn   Sfhn         1   \n",
              "9               3     1  26.35             0.0   thrn  tbryz         1   \n",
              "14              2     1  23.48             0.0    yzd   thrn         1   \n",
              "\n",
              "   VIPStatus TripReason Vehicle  Cancel     LeadTime  IsWeekend  \\\n",
              "2       True       Work     Bus       0    63272.750          0   \n",
              "7       True       Work     Bus       0     7215.157          0   \n",
              "8       True       Work     Bus       0    57761.133          0   \n",
              "9       True        Int     Bus       0   312199.797          0   \n",
              "14   Unknown        Int   Train       0  1471280.147          0   \n",
              "\n",
              "    DiscountRatio  BookingMonth  DepartureMonth  BookingWeekday  \\\n",
              "2             0.0             9               9               1   \n",
              "7             0.0             7               7               3   \n",
              "8             0.0            10              10               6   \n",
              "9             0.0             3               3               3   \n",
              "14            0.0             9               9               1   \n",
              "\n",
              "    DepartureWeekday  DepartureHour  BookingHour  \n",
              "2                  2             11           17  \n",
              "7                  3             16           13  \n",
              "8                  0              2            9  \n",
              "9                  0             13           22  \n",
              "14                 4             20           20  "
            ],
            "text/html": [
              "\n",
              "  <div id=\"df-f8ce4f25-af33-4ab9-b4ce-3bf0994ab55e\" class=\"colab-df-container\">\n",
              "    <div>\n",
              "<style scoped>\n",
              "    .dataframe tbody tr th:only-of-type {\n",
              "        vertical-align: middle;\n",
              "    }\n",
              "\n",
              "    .dataframe tbody tr th {\n",
              "        vertical-align: top;\n",
              "    }\n",
              "\n",
              "    .dataframe thead th {\n",
              "        text-align: right;\n",
              "    }\n",
              "</style>\n",
              "<table border=\"1\" class=\"dataframe\">\n",
              "  <thead>\n",
              "    <tr style=\"text-align: right;\">\n",
              "      <th></th>\n",
              "      <th>ReserveStatus</th>\n",
              "      <th>Male</th>\n",
              "      <th>Price</th>\n",
              "      <th>CouponDiscount</th>\n",
              "      <th>From</th>\n",
              "      <th>To</th>\n",
              "      <th>Domestic</th>\n",
              "      <th>VIPStatus</th>\n",
              "      <th>TripReason</th>\n",
              "      <th>Vehicle</th>\n",
              "      <th>Cancel</th>\n",
              "      <th>LeadTime</th>\n",
              "      <th>IsWeekend</th>\n",
              "      <th>DiscountRatio</th>\n",
              "      <th>BookingMonth</th>\n",
              "      <th>DepartureMonth</th>\n",
              "      <th>BookingWeekday</th>\n",
              "      <th>DepartureWeekday</th>\n",
              "      <th>DepartureHour</th>\n",
              "      <th>BookingHour</th>\n",
              "    </tr>\n",
              "  </thead>\n",
              "  <tbody>\n",
              "    <tr>\n",
              "      <th>2</th>\n",
              "      <td>3</td>\n",
              "      <td>0</td>\n",
              "      <td>40.54</td>\n",
              "      <td>0.0</td>\n",
              "      <td>shyrz</td>\n",
              "      <td>hwz</td>\n",
              "      <td>1</td>\n",
              "      <td>True</td>\n",
              "      <td>Work</td>\n",
              "      <td>Bus</td>\n",
              "      <td>0</td>\n",
              "      <td>63272.750</td>\n",
              "      <td>0</td>\n",
              "      <td>0.0</td>\n",
              "      <td>9</td>\n",
              "      <td>9</td>\n",
              "      <td>1</td>\n",
              "      <td>2</td>\n",
              "      <td>11</td>\n",
              "      <td>17</td>\n",
              "    </tr>\n",
              "    <tr>\n",
              "      <th>7</th>\n",
              "      <td>3</td>\n",
              "      <td>1</td>\n",
              "      <td>50.27</td>\n",
              "      <td>0.0</td>\n",
              "      <td>thrn</td>\n",
              "      <td>shyrz</td>\n",
              "      <td>1</td>\n",
              "      <td>True</td>\n",
              "      <td>Work</td>\n",
              "      <td>Bus</td>\n",
              "      <td>0</td>\n",
              "      <td>7215.157</td>\n",
              "      <td>0</td>\n",
              "      <td>0.0</td>\n",
              "      <td>7</td>\n",
              "      <td>7</td>\n",
              "      <td>3</td>\n",
              "      <td>3</td>\n",
              "      <td>16</td>\n",
              "      <td>13</td>\n",
              "    </tr>\n",
              "    <tr>\n",
              "      <th>8</th>\n",
              "      <td>3</td>\n",
              "      <td>1</td>\n",
              "      <td>24.73</td>\n",
              "      <td>0.0</td>\n",
              "      <td>thrn</td>\n",
              "      <td>Sfhn</td>\n",
              "      <td>1</td>\n",
              "      <td>True</td>\n",
              "      <td>Work</td>\n",
              "      <td>Bus</td>\n",
              "      <td>0</td>\n",
              "      <td>57761.133</td>\n",
              "      <td>0</td>\n",
              "      <td>0.0</td>\n",
              "      <td>10</td>\n",
              "      <td>10</td>\n",
              "      <td>6</td>\n",
              "      <td>0</td>\n",
              "      <td>2</td>\n",
              "      <td>9</td>\n",
              "    </tr>\n",
              "    <tr>\n",
              "      <th>9</th>\n",
              "      <td>3</td>\n",
              "      <td>1</td>\n",
              "      <td>26.35</td>\n",
              "      <td>0.0</td>\n",
              "      <td>thrn</td>\n",
              "      <td>tbryz</td>\n",
              "      <td>1</td>\n",
              "      <td>True</td>\n",
              "      <td>Int</td>\n",
              "      <td>Bus</td>\n",
              "      <td>0</td>\n",
              "      <td>312199.797</td>\n",
              "      <td>0</td>\n",
              "      <td>0.0</td>\n",
              "      <td>3</td>\n",
              "      <td>3</td>\n",
              "      <td>3</td>\n",
              "      <td>0</td>\n",
              "      <td>13</td>\n",
              "      <td>22</td>\n",
              "    </tr>\n",
              "    <tr>\n",
              "      <th>14</th>\n",
              "      <td>2</td>\n",
              "      <td>1</td>\n",
              "      <td>23.48</td>\n",
              "      <td>0.0</td>\n",
              "      <td>yzd</td>\n",
              "      <td>thrn</td>\n",
              "      <td>1</td>\n",
              "      <td>Unknown</td>\n",
              "      <td>Int</td>\n",
              "      <td>Train</td>\n",
              "      <td>0</td>\n",
              "      <td>1471280.147</td>\n",
              "      <td>0</td>\n",
              "      <td>0.0</td>\n",
              "      <td>9</td>\n",
              "      <td>9</td>\n",
              "      <td>1</td>\n",
              "      <td>4</td>\n",
              "      <td>20</td>\n",
              "      <td>20</td>\n",
              "    </tr>\n",
              "  </tbody>\n",
              "</table>\n",
              "</div>\n",
              "    <div class=\"colab-df-buttons\">\n",
              "\n",
              "  <div class=\"colab-df-container\">\n",
              "    <button class=\"colab-df-convert\" onclick=\"convertToInteractive('df-f8ce4f25-af33-4ab9-b4ce-3bf0994ab55e')\"\n",
              "            title=\"Convert this dataframe to an interactive table.\"\n",
              "            style=\"display:none;\">\n",
              "\n",
              "  <svg xmlns=\"http://www.w3.org/2000/svg\" height=\"24px\" viewBox=\"0 -960 960 960\">\n",
              "    <path d=\"M120-120v-720h720v720H120Zm60-500h600v-160H180v160Zm220 220h160v-160H400v160Zm0 220h160v-160H400v160ZM180-400h160v-160H180v160Zm440 0h160v-160H620v160ZM180-180h160v-160H180v160Zm440 0h160v-160H620v160Z\"/>\n",
              "  </svg>\n",
              "    </button>\n",
              "\n",
              "  <style>\n",
              "    .colab-df-container {\n",
              "      display:flex;\n",
              "      gap: 12px;\n",
              "    }\n",
              "\n",
              "    .colab-df-convert {\n",
              "      background-color: #E8F0FE;\n",
              "      border: none;\n",
              "      border-radius: 50%;\n",
              "      cursor: pointer;\n",
              "      display: none;\n",
              "      fill: #1967D2;\n",
              "      height: 32px;\n",
              "      padding: 0 0 0 0;\n",
              "      width: 32px;\n",
              "    }\n",
              "\n",
              "    .colab-df-convert:hover {\n",
              "      background-color: #E2EBFA;\n",
              "      box-shadow: 0px 1px 2px rgba(60, 64, 67, 0.3), 0px 1px 3px 1px rgba(60, 64, 67, 0.15);\n",
              "      fill: #174EA6;\n",
              "    }\n",
              "\n",
              "    .colab-df-buttons div {\n",
              "      margin-bottom: 4px;\n",
              "    }\n",
              "\n",
              "    [theme=dark] .colab-df-convert {\n",
              "      background-color: #3B4455;\n",
              "      fill: #D2E3FC;\n",
              "    }\n",
              "\n",
              "    [theme=dark] .colab-df-convert:hover {\n",
              "      background-color: #434B5C;\n",
              "      box-shadow: 0px 1px 3px 1px rgba(0, 0, 0, 0.15);\n",
              "      filter: drop-shadow(0px 1px 2px rgba(0, 0, 0, 0.3));\n",
              "      fill: #FFFFFF;\n",
              "    }\n",
              "  </style>\n",
              "\n",
              "    <script>\n",
              "      const buttonEl =\n",
              "        document.querySelector('#df-f8ce4f25-af33-4ab9-b4ce-3bf0994ab55e button.colab-df-convert');\n",
              "      buttonEl.style.display =\n",
              "        google.colab.kernel.accessAllowed ? 'block' : 'none';\n",
              "\n",
              "      async function convertToInteractive(key) {\n",
              "        const element = document.querySelector('#df-f8ce4f25-af33-4ab9-b4ce-3bf0994ab55e');\n",
              "        const dataTable =\n",
              "          await google.colab.kernel.invokeFunction('convertToInteractive',\n",
              "                                                    [key], {});\n",
              "        if (!dataTable) return;\n",
              "\n",
              "        const docLinkHtml = 'Like what you see? Visit the ' +\n",
              "          '<a target=\"_blank\" href=https://colab.research.google.com/notebooks/data_table.ipynb>data table notebook</a>'\n",
              "          + ' to learn more about interactive tables.';\n",
              "        element.innerHTML = '';\n",
              "        dataTable['output_type'] = 'display_data';\n",
              "        await google.colab.output.renderOutput(dataTable, element);\n",
              "        const docLink = document.createElement('div');\n",
              "        docLink.innerHTML = docLinkHtml;\n",
              "        element.appendChild(docLink);\n",
              "      }\n",
              "    </script>\n",
              "  </div>\n",
              "\n",
              "\n",
              "    <div id=\"df-3bc66409-b440-4c79-b4ba-3de446c80886\">\n",
              "      <button class=\"colab-df-quickchart\" onclick=\"quickchart('df-3bc66409-b440-4c79-b4ba-3de446c80886')\"\n",
              "                title=\"Suggest charts\"\n",
              "                style=\"display:none;\">\n",
              "\n",
              "<svg xmlns=\"http://www.w3.org/2000/svg\" height=\"24px\"viewBox=\"0 0 24 24\"\n",
              "     width=\"24px\">\n",
              "    <g>\n",
              "        <path d=\"M19 3H5c-1.1 0-2 .9-2 2v14c0 1.1.9 2 2 2h14c1.1 0 2-.9 2-2V5c0-1.1-.9-2-2-2zM9 17H7v-7h2v7zm4 0h-2V7h2v10zm4 0h-2v-4h2v4z\"/>\n",
              "    </g>\n",
              "</svg>\n",
              "      </button>\n",
              "\n",
              "<style>\n",
              "  .colab-df-quickchart {\n",
              "      --bg-color: #E8F0FE;\n",
              "      --fill-color: #1967D2;\n",
              "      --hover-bg-color: #E2EBFA;\n",
              "      --hover-fill-color: #174EA6;\n",
              "      --disabled-fill-color: #AAA;\n",
              "      --disabled-bg-color: #DDD;\n",
              "  }\n",
              "\n",
              "  [theme=dark] .colab-df-quickchart {\n",
              "      --bg-color: #3B4455;\n",
              "      --fill-color: #D2E3FC;\n",
              "      --hover-bg-color: #434B5C;\n",
              "      --hover-fill-color: #FFFFFF;\n",
              "      --disabled-bg-color: #3B4455;\n",
              "      --disabled-fill-color: #666;\n",
              "  }\n",
              "\n",
              "  .colab-df-quickchart {\n",
              "    background-color: var(--bg-color);\n",
              "    border: none;\n",
              "    border-radius: 50%;\n",
              "    cursor: pointer;\n",
              "    display: none;\n",
              "    fill: var(--fill-color);\n",
              "    height: 32px;\n",
              "    padding: 0;\n",
              "    width: 32px;\n",
              "  }\n",
              "\n",
              "  .colab-df-quickchart:hover {\n",
              "    background-color: var(--hover-bg-color);\n",
              "    box-shadow: 0 1px 2px rgba(60, 64, 67, 0.3), 0 1px 3px 1px rgba(60, 64, 67, 0.15);\n",
              "    fill: var(--button-hover-fill-color);\n",
              "  }\n",
              "\n",
              "  .colab-df-quickchart-complete:disabled,\n",
              "  .colab-df-quickchart-complete:disabled:hover {\n",
              "    background-color: var(--disabled-bg-color);\n",
              "    fill: var(--disabled-fill-color);\n",
              "    box-shadow: none;\n",
              "  }\n",
              "\n",
              "  .colab-df-spinner {\n",
              "    border: 2px solid var(--fill-color);\n",
              "    border-color: transparent;\n",
              "    border-bottom-color: var(--fill-color);\n",
              "    animation:\n",
              "      spin 1s steps(1) infinite;\n",
              "  }\n",
              "\n",
              "  @keyframes spin {\n",
              "    0% {\n",
              "      border-color: transparent;\n",
              "      border-bottom-color: var(--fill-color);\n",
              "      border-left-color: var(--fill-color);\n",
              "    }\n",
              "    20% {\n",
              "      border-color: transparent;\n",
              "      border-left-color: var(--fill-color);\n",
              "      border-top-color: var(--fill-color);\n",
              "    }\n",
              "    30% {\n",
              "      border-color: transparent;\n",
              "      border-left-color: var(--fill-color);\n",
              "      border-top-color: var(--fill-color);\n",
              "      border-right-color: var(--fill-color);\n",
              "    }\n",
              "    40% {\n",
              "      border-color: transparent;\n",
              "      border-right-color: var(--fill-color);\n",
              "      border-top-color: var(--fill-color);\n",
              "    }\n",
              "    60% {\n",
              "      border-color: transparent;\n",
              "      border-right-color: var(--fill-color);\n",
              "    }\n",
              "    80% {\n",
              "      border-color: transparent;\n",
              "      border-right-color: var(--fill-color);\n",
              "      border-bottom-color: var(--fill-color);\n",
              "    }\n",
              "    90% {\n",
              "      border-color: transparent;\n",
              "      border-bottom-color: var(--fill-color);\n",
              "    }\n",
              "  }\n",
              "</style>\n",
              "\n",
              "      <script>\n",
              "        async function quickchart(key) {\n",
              "          const quickchartButtonEl =\n",
              "            document.querySelector('#' + key + ' button');\n",
              "          quickchartButtonEl.disabled = true;  // To prevent multiple clicks.\n",
              "          quickchartButtonEl.classList.add('colab-df-spinner');\n",
              "          try {\n",
              "            const charts = await google.colab.kernel.invokeFunction(\n",
              "                'suggestCharts', [key], {});\n",
              "          } catch (error) {\n",
              "            console.error('Error during call to suggestCharts:', error);\n",
              "          }\n",
              "          quickchartButtonEl.classList.remove('colab-df-spinner');\n",
              "          quickchartButtonEl.classList.add('colab-df-quickchart-complete');\n",
              "        }\n",
              "        (() => {\n",
              "          let quickchartButtonEl =\n",
              "            document.querySelector('#df-3bc66409-b440-4c79-b4ba-3de446c80886 button');\n",
              "          quickchartButtonEl.style.display =\n",
              "            google.colab.kernel.accessAllowed ? 'block' : 'none';\n",
              "        })();\n",
              "      </script>\n",
              "    </div>\n",
              "\n",
              "    </div>\n",
              "  </div>\n"
            ],
            "application/vnd.google.colaboratory.intrinsic+json": {
              "type": "dataframe",
              "variable_name": "df",
              "summary": "{\n  \"name\": \"df\",\n  \"rows\": 45901,\n  \"fields\": [\n    {\n      \"column\": \"ReserveStatus\",\n      \"properties\": {\n        \"dtype\": \"number\",\n        \"std\": 0,\n        \"min\": 2,\n        \"max\": 5,\n        \"num_unique_values\": 4,\n        \"samples\": [\n          2,\n          4,\n          3\n        ],\n        \"semantic_type\": \"\",\n        \"description\": \"\"\n      }\n    },\n    {\n      \"column\": \"Male\",\n      \"properties\": {\n        \"dtype\": \"number\",\n        \"std\": 0,\n        \"min\": 0,\n        \"max\": 1,\n        \"num_unique_values\": 2,\n        \"samples\": [\n          1,\n          0\n        ],\n        \"semantic_type\": \"\",\n        \"description\": \"\"\n      }\n    },\n    {\n      \"column\": \"Price\",\n      \"properties\": {\n        \"dtype\": \"number\",\n        \"std\": 11.349383413333552,\n        \"min\": 20.78,\n        \"max\": 63.85,\n        \"num_unique_values\": 1421,\n        \"samples\": [\n          22.3,\n          29.02\n        ],\n        \"semantic_type\": \"\",\n        \"description\": \"\"\n      }\n    },\n    {\n      \"column\": \"CouponDiscount\",\n      \"properties\": {\n        \"dtype\": \"number\",\n        \"std\": 0.5860055427161244,\n        \"min\": 0.0,\n        \"max\": 54.05,\n        \"num_unique_values\": 255,\n        \"samples\": [\n          0.32,\n          0.53\n        ],\n        \"semantic_type\": \"\",\n        \"description\": \"\"\n      }\n    },\n    {\n      \"column\": \"From\",\n      \"properties\": {\n        \"dtype\": \"category\",\n        \"num_unique_values\": 150,\n        \"samples\": [\n          \"bm\",\n          \"khrmn\"\n        ],\n        \"semantic_type\": \"\",\n        \"description\": \"\"\n      }\n    },\n    {\n      \"column\": \"To\",\n      \"properties\": {\n        \"dtype\": \"category\",\n        \"num_unique_values\": 185,\n        \"samples\": [\n          \"qm\",\n          \"khrmnshh\"\n        ],\n        \"semantic_type\": \"\",\n        \"description\": \"\"\n      }\n    },\n    {\n      \"column\": \"Domestic\",\n      \"properties\": {\n        \"dtype\": \"number\",\n        \"std\": 0,\n        \"min\": 0,\n        \"max\": 1,\n        \"num_unique_values\": 2,\n        \"samples\": [\n          0,\n          1\n        ],\n        \"semantic_type\": \"\",\n        \"description\": \"\"\n      }\n    },\n    {\n      \"column\": \"VIPStatus\",\n      \"properties\": {\n        \"dtype\": \"category\",\n        \"num_unique_values\": 3,\n        \"samples\": [\n          \"True\",\n          \"Unknown\"\n        ],\n        \"semantic_type\": \"\",\n        \"description\": \"\"\n      }\n    },\n    {\n      \"column\": \"TripReason\",\n      \"properties\": {\n        \"dtype\": \"category\",\n        \"num_unique_values\": 2,\n        \"samples\": [\n          \"Int\",\n          \"Work\"\n        ],\n        \"semantic_type\": \"\",\n        \"description\": \"\"\n      }\n    },\n    {\n      \"column\": \"Vehicle\",\n      \"properties\": {\n        \"dtype\": \"category\",\n        \"num_unique_values\": 4,\n        \"samples\": [\n          \"Train\",\n          \"InternationalPlane\"\n        ],\n        \"semantic_type\": \"\",\n        \"description\": \"\"\n      }\n    },\n    {\n      \"column\": \"Cancel\",\n      \"properties\": {\n        \"dtype\": \"number\",\n        \"std\": 0,\n        \"min\": 0,\n        \"max\": 1,\n        \"num_unique_values\": 2,\n        \"samples\": [\n          1,\n          0\n        ],\n        \"semantic_type\": \"\",\n        \"description\": \"\"\n      }\n    },\n    {\n      \"column\": \"LeadTime\",\n      \"properties\": {\n        \"dtype\": \"number\",\n        \"std\": 707806.5343382135,\n        \"min\": 1879.693,\n        \"max\": 6524436.667,\n        \"num_unique_values\": 34532,\n        \"samples\": [\n          126383.533,\n          59595.573\n        ],\n        \"semantic_type\": \"\",\n        \"description\": \"\"\n      }\n    },\n    {\n      \"column\": \"IsWeekend\",\n      \"properties\": {\n        \"dtype\": \"number\",\n        \"std\": 0,\n        \"min\": 0,\n        \"max\": 1,\n        \"num_unique_values\": 2,\n        \"samples\": [\n          1,\n          0\n        ],\n        \"semantic_type\": \"\",\n        \"description\": \"\"\n      }\n    },\n    {\n      \"column\": \"DiscountRatio\",\n      \"properties\": {\n        \"dtype\": \"number\",\n        \"std\": 0.015095275530223226,\n        \"min\": 0.0,\n        \"max\": 1.1130434782608696,\n        \"num_unique_values\": 1330,\n        \"samples\": [\n          0.0019319938176197838,\n          0.010399334442595675\n        ],\n        \"semantic_type\": \"\",\n        \"description\": \"\"\n      }\n    },\n    {\n      \"column\": \"BookingMonth\",\n      \"properties\": {\n        \"dtype\": \"int32\",\n        \"num_unique_values\": 11,\n        \"samples\": [\n          2,\n          9\n        ],\n        \"semantic_type\": \"\",\n        \"description\": \"\"\n      }\n    },\n    {\n      \"column\": \"DepartureMonth\",\n      \"properties\": {\n        \"dtype\": \"int32\",\n        \"num_unique_values\": 10,\n        \"samples\": [\n          8,\n          7\n        ],\n        \"semantic_type\": \"\",\n        \"description\": \"\"\n      }\n    },\n    {\n      \"column\": \"BookingWeekday\",\n      \"properties\": {\n        \"dtype\": \"int32\",\n        \"num_unique_values\": 7,\n        \"samples\": [\n          1,\n          3\n        ],\n        \"semantic_type\": \"\",\n        \"description\": \"\"\n      }\n    },\n    {\n      \"column\": \"DepartureWeekday\",\n      \"properties\": {\n        \"dtype\": \"int32\",\n        \"num_unique_values\": 7,\n        \"samples\": [\n          2,\n          3\n        ],\n        \"semantic_type\": \"\",\n        \"description\": \"\"\n      }\n    },\n    {\n      \"column\": \"DepartureHour\",\n      \"properties\": {\n        \"dtype\": \"int32\",\n        \"num_unique_values\": 24,\n        \"samples\": [\n          7,\n          14\n        ],\n        \"semantic_type\": \"\",\n        \"description\": \"\"\n      }\n    },\n    {\n      \"column\": \"BookingHour\",\n      \"properties\": {\n        \"dtype\": \"int32\",\n        \"num_unique_values\": 24,\n        \"samples\": [\n          15,\n          19\n        ],\n        \"semantic_type\": \"\",\n        \"description\": \"\"\n      }\n    }\n  ]\n}"
            }
          },
          "metadata": {},
          "execution_count": 16
        }
      ]
    },
    {
      "cell_type": "code",
      "source": [
        "# use of frequency encoding since there is a lot of different cities and other encodings would not make sense\n",
        "# loss of interpretability though\n",
        "\n",
        "df['FromFreq'] = df['From'].map(df['From'].value_counts())\n",
        "df['ToFreq'] = df['To'].map(df['To'].value_counts())\n",
        "\n",
        "# drop the city columns\n",
        "df.drop(columns=['From', 'To'], inplace=True)"
      ],
      "metadata": {
        "id": "qwiOUtwH_7Ue"
      },
      "execution_count": 17,
      "outputs": []
    },
    {
      "cell_type": "code",
      "source": [
        "df['DiscountRatio'].describe()"
      ],
      "metadata": {
        "id": "xgOgXipS4FCD",
        "outputId": "48fd4001-fd7c-4fe7-9fdc-8b149413896d",
        "colab": {
          "base_uri": "https://localhost:8080/",
          "height": 335
        }
      },
      "execution_count": 18,
      "outputs": [
        {
          "output_type": "execute_result",
          "data": {
            "text/plain": [
              "count    45901.000000\n",
              "mean         0.001288\n",
              "std          0.015095\n",
              "min          0.000000\n",
              "25%          0.000000\n",
              "50%          0.000000\n",
              "75%          0.000000\n",
              "max          1.113043\n",
              "Name: DiscountRatio, dtype: float64"
            ],
            "text/html": [
              "<div>\n",
              "<style scoped>\n",
              "    .dataframe tbody tr th:only-of-type {\n",
              "        vertical-align: middle;\n",
              "    }\n",
              "\n",
              "    .dataframe tbody tr th {\n",
              "        vertical-align: top;\n",
              "    }\n",
              "\n",
              "    .dataframe thead th {\n",
              "        text-align: right;\n",
              "    }\n",
              "</style>\n",
              "<table border=\"1\" class=\"dataframe\">\n",
              "  <thead>\n",
              "    <tr style=\"text-align: right;\">\n",
              "      <th></th>\n",
              "      <th>DiscountRatio</th>\n",
              "    </tr>\n",
              "  </thead>\n",
              "  <tbody>\n",
              "    <tr>\n",
              "      <th>count</th>\n",
              "      <td>45901.000000</td>\n",
              "    </tr>\n",
              "    <tr>\n",
              "      <th>mean</th>\n",
              "      <td>0.001288</td>\n",
              "    </tr>\n",
              "    <tr>\n",
              "      <th>std</th>\n",
              "      <td>0.015095</td>\n",
              "    </tr>\n",
              "    <tr>\n",
              "      <th>min</th>\n",
              "      <td>0.000000</td>\n",
              "    </tr>\n",
              "    <tr>\n",
              "      <th>25%</th>\n",
              "      <td>0.000000</td>\n",
              "    </tr>\n",
              "    <tr>\n",
              "      <th>50%</th>\n",
              "      <td>0.000000</td>\n",
              "    </tr>\n",
              "    <tr>\n",
              "      <th>75%</th>\n",
              "      <td>0.000000</td>\n",
              "    </tr>\n",
              "    <tr>\n",
              "      <th>max</th>\n",
              "      <td>1.113043</td>\n",
              "    </tr>\n",
              "  </tbody>\n",
              "</table>\n",
              "</div><br><label><b>dtype:</b> float64</label>"
            ]
          },
          "metadata": {},
          "execution_count": 18
        }
      ]
    },
    {
      "cell_type": "code",
      "source": [
        "df['Vehicle'].value_counts()"
      ],
      "metadata": {
        "colab": {
          "base_uri": "https://localhost:8080/",
          "height": 241
        },
        "id": "TVMfWpIVn6CD",
        "outputId": "6e5d2cbd-035c-42c5-e81e-fd77cec651a8"
      },
      "execution_count": 19,
      "outputs": [
        {
          "output_type": "execute_result",
          "data": {
            "text/plain": [
              "Vehicle\n",
              "Bus                   26712\n",
              "Train                 19001\n",
              "Plane                   184\n",
              "InternationalPlane        4\n",
              "Name: count, dtype: int64"
            ],
            "text/html": [
              "<div>\n",
              "<style scoped>\n",
              "    .dataframe tbody tr th:only-of-type {\n",
              "        vertical-align: middle;\n",
              "    }\n",
              "\n",
              "    .dataframe tbody tr th {\n",
              "        vertical-align: top;\n",
              "    }\n",
              "\n",
              "    .dataframe thead th {\n",
              "        text-align: right;\n",
              "    }\n",
              "</style>\n",
              "<table border=\"1\" class=\"dataframe\">\n",
              "  <thead>\n",
              "    <tr style=\"text-align: right;\">\n",
              "      <th></th>\n",
              "      <th>count</th>\n",
              "    </tr>\n",
              "    <tr>\n",
              "      <th>Vehicle</th>\n",
              "      <th></th>\n",
              "    </tr>\n",
              "  </thead>\n",
              "  <tbody>\n",
              "    <tr>\n",
              "      <th>Bus</th>\n",
              "      <td>26712</td>\n",
              "    </tr>\n",
              "    <tr>\n",
              "      <th>Train</th>\n",
              "      <td>19001</td>\n",
              "    </tr>\n",
              "    <tr>\n",
              "      <th>Plane</th>\n",
              "      <td>184</td>\n",
              "    </tr>\n",
              "    <tr>\n",
              "      <th>InternationalPlane</th>\n",
              "      <td>4</td>\n",
              "    </tr>\n",
              "  </tbody>\n",
              "</table>\n",
              "</div><br><label><b>dtype:</b> int64</label>"
            ]
          },
          "metadata": {},
          "execution_count": 19
        }
      ]
    },
    {
      "cell_type": "code",
      "source": [
        "# Create a copy of the cleaned DataFrame\n",
        "cleaned_data = df.copy()"
      ],
      "metadata": {
        "id": "8XC2qlpv7NT-"
      },
      "execution_count": 22,
      "outputs": []
    },
    {
      "cell_type": "code",
      "source": [
        "# Save as CSV\n",
        "cleaned_data.to_csv(\n",
        "    '/content/drive/MyDrive/Colab Notebooks/QantRisk/cleaned_data.csv',\n",
        "    index=False\n",
        ")"
      ],
      "metadata": {
        "id": "Jacnl1UMIpAl"
      },
      "execution_count": 23,
      "outputs": []
    },
    {
      "cell_type": "code",
      "source": [
        "cleaned_data.head()"
      ],
      "metadata": {
        "id": "dgqNKVMEI73q"
      },
      "execution_count": null,
      "outputs": []
    },
    {
      "cell_type": "code",
      "source": [
        "cleaned_data['IsWeekend'].value_counts()"
      ],
      "metadata": {
        "id": "dlIhQhm-MEEV"
      },
      "execution_count": null,
      "outputs": []
    },
    {
      "cell_type": "code",
      "source": [
        "cleaned_data['Cancel'].value_counts()"
      ],
      "metadata": {
        "id": "tx7ktr7BJMnB"
      },
      "execution_count": null,
      "outputs": []
    },
    {
      "cell_type": "code",
      "source": [
        "cleaned_data.info()"
      ],
      "metadata": {
        "id": "QYG_pA0aLdUu"
      },
      "execution_count": null,
      "outputs": []
    }
  ]
}
