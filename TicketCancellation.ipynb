{
  "nbformat": 4,
  "nbformat_minor": 0,
  "metadata": {
    "colab": {
      "provenance": [],
      "authorship_tag": "ABX9TyMeF3c+AquzUTFRWUckYJK6",
      "include_colab_link": true
    },
    "kernelspec": {
      "name": "python3",
      "display_name": "Python 3"
    },
    "language_info": {
      "name": "python"
    }
  },
  "cells": [
    {
      "cell_type": "markdown",
      "metadata": {
        "id": "view-in-github",
        "colab_type": "text"
      },
      "source": [
        "<a href=\"https://colab.research.google.com/github/staerkjoe/QuantRisk_Colab/blob/main/TicketCancellation.ipynb\" target=\"_parent\"><img src=\"https://colab.research.google.com/assets/colab-badge.svg\" alt=\"Open In Colab\"/></a>"
      ]
    },
    {
      "cell_type": "code",
      "execution_count": null,
      "metadata": {
        "id": "AkctrGk8exjP",
        "colab": {
          "base_uri": "https://localhost:8080/"
        },
        "outputId": "9a08ddc1-8240-42b4-f152-a027e01fc513"
      },
      "outputs": [
        {
          "output_type": "stream",
          "name": "stdout",
          "text": [
            "Using Colab cache for faster access to the 'classification-of-travel-purpose' dataset.\n",
            "Path to dataset files: /kaggle/input/classification-of-travel-purpose\n"
          ]
        }
      ],
      "source": [
        "import kagglehub\n",
        "\n",
        "# Download latest version\n",
        "path = kagglehub.dataset_download(\"pkdarabi/classification-of-travel-purpose\")\n",
        "\n",
        "print(\"Path to dataset files:\", path)"
      ]
    },
    {
      "cell_type": "markdown",
      "source": [
        "Link to dataset:\n",
        "https://www.kaggle.com/datasets/pkdarabi/classification-of-travel-purpose"
      ],
      "metadata": {
        "id": "n4HaE3IJoHil"
      }
    },
    {
      "cell_type": "code",
      "source": [
        "!pip install unidecode"
      ],
      "metadata": {
        "id": "YbGf-VezzTIP",
        "outputId": "8272d29b-5dd3-4b98-cbcd-706f39c6d493",
        "colab": {
          "base_uri": "https://localhost:8080/"
        }
      },
      "execution_count": null,
      "outputs": [
        {
          "output_type": "stream",
          "name": "stdout",
          "text": [
            "Requirement already satisfied: unidecode in /usr/local/lib/python3.12/dist-packages (1.4.0)\n"
          ]
        }
      ]
    },
    {
      "cell_type": "code",
      "source": [
        "import tensorflow as tf\n",
        "import tf_keras as keras\n",
        "import pandas as pd\n",
        "# note: tensorflow 2.17 onwards uses tf.keras 3.0 internally,\n",
        "# which seem to be still bugged and inconsistent.\n",
        "# We therefore use tf_keras in according to tensorflow version.\n",
        "\n",
        "import numpy as np\n",
        "import os\n",
        "import time\n",
        "from unidecode import unidecode"
      ],
      "metadata": {
        "id": "aTjNRTYDfT5G"
      },
      "execution_count": null,
      "outputs": []
    },
    {
      "cell_type": "code",
      "source": [
        "for file in os.listdir(path):\n",
        "    print(file)"
      ],
      "metadata": {
        "colab": {
          "base_uri": "https://localhost:8080/"
        },
        "id": "MyzVc2iihsSM",
        "outputId": "87a18149-d301-4edc-9c7a-6f12fbd4da0f"
      },
      "execution_count": null,
      "outputs": [
        {
          "output_type": "stream",
          "name": "stdout",
          "text": [
            "train_data.csv\n"
          ]
        }
      ]
    },
    {
      "cell_type": "code",
      "source": [
        "df = pd.read_csv(os.path.join(path, \"train_data.csv\"))"
      ],
      "metadata": {
        "id": "kP1swOKDfut7"
      },
      "execution_count": null,
      "outputs": []
    },
    {
      "cell_type": "code",
      "source": [
        "# drop columns that are unnecessary/not helpful for prediction\n",
        "\n",
        "# List of columns to drop\n",
        "drop_cols = [\n",
        "    'BillID',               # Unique identifier\n",
        "    'TicketID',             # Unique identifier\n",
        "    'UserID',               # Sparse and semi-unique\n",
        "    'BuyerMobile',          # Personal identifier\n",
        "    'NationalCode',         # Personal identifier\n",
        "    'HashPassportNumber_p', # Sparse and hashed\n",
        "    'HashEmail',            # Sparse and hashed\n",
        "    'CancelTime',           # Leaks target label\n",
        "    'VehicleType'\n",
        "]\n",
        "\n",
        "# Drop columns from DataFrame\n",
        "df = df.drop(columns=drop_cols)\n",
        "\n",
        "# Optional: Confirm result\n",
        "print(\"Remaining columns:\", df.columns.tolist())\n",
        "\n",
        "\n"
      ],
      "metadata": {
        "colab": {
          "base_uri": "https://localhost:8080/"
        },
        "id": "c7XD0U7Kh7l5",
        "outputId": "ae9f7958-eb14-45e9-ccb5-e07b03322f14"
      },
      "execution_count": null,
      "outputs": [
        {
          "output_type": "stream",
          "name": "stdout",
          "text": [
            "Remaining columns: ['Created', 'DepartureTime', 'ReserveStatus', 'Male', 'Price', 'CouponDiscount', 'From', 'To', 'Domestic', 'VehicleClass', 'TripReason', 'Vehicle', 'Cancel']\n"
          ]
        }
      ]
    },
    {
      "cell_type": "code",
      "source": [
        "# Drop Nulla values for From and TO\n",
        "df = df.dropna(subset=['From', 'To'])\n",
        "\n",
        "# Combine 'From' and 'To' columns to create a list of all cities\n",
        "all_cities = df['From'].tolist() + df['To'].tolist()\n",
        "\n",
        "# Create a set of unique cities and convert it back to a list\n",
        "unique_cities = list(set(all_cities))\n",
        "\n",
        "# print(unique_cities)\n",
        "\n",
        "# Mapping erstellen\n",
        "city_mapping = {city: unidecode(city) for city in unique_cities}\n",
        "\n",
        "'''\n",
        "# Ausgabe als Dictionary\n",
        "print(\"city_mapping = {\")\n",
        "for k, v in city_mapping.items():\n",
        "    print(f\"    '{k}': '{v}',\")\n",
        "print(\"}\")\n",
        "'''"
      ],
      "metadata": {
        "id": "BhR66NYhu-Jy",
        "outputId": "5af85485-4240-4e1e-d48b-1edb51702690",
        "colab": {
          "base_uri": "https://localhost:8080/",
          "height": 55
        }
      },
      "execution_count": null,
      "outputs": [
        {
          "output_type": "execute_result",
          "data": {
            "text/plain": [
              "'\\n# Ausgabe als Dictionary\\nprint(\"city_mapping = {\")\\nfor k, v in city_mapping.items():\\n    print(f\"    \\'{k}\\': \\'{v}\\',\")\\nprint(\"}\")\\n'"
            ],
            "application/vnd.google.colaboratory.intrinsic+json": {
              "type": "string"
            }
          },
          "metadata": {},
          "execution_count": 127
        }
      ]
    },
    {
      "cell_type": "code",
      "source": [
        "def normalize_city_name(name):\n",
        "    if pd.isna(name):\n",
        "        return None\n",
        "    return (\n",
        "        str(name)\n",
        "        .strip()\n",
        "        .replace('\\u200c', '')  # remove zero-width non-joiner\n",
        "        .replace(' (', '(')\n",
        "        .replace(')', ')')\n",
        "        .replace('‌', '')       # remove zero-width joiner\n",
        "    )\n",
        "\n",
        "def safe_unidecode(value):\n",
        "    if pd.isna(value):\n",
        "        return \"\"\n",
        "    return unidecode(str(value))\n",
        "\n",
        "df['From'] = df['From'].apply(normalize_city_name).map(city_mapping).apply(safe_unidecode)\n",
        "df['To'] = df['To'].apply(normalize_city_name).map(city_mapping).apply(safe_unidecode)\n",
        "\n",
        "df['FromMapped'] = df['From'].isin(city_mapping.values())\n",
        "df['ToMapped'] = df['To'].isin(city_mapping.values())\n",
        "\n",
        "# keep only rows where both 'From' and 'To' were mapped\n",
        "df = df[df[\"FromMapped\"] & df[\"ToMapped\"]].copy()\n",
        "# drop mapping flags\n",
        "df.drop(columns=[\"FromMapped\", \"ToMapped\"], inplace=True)"
      ],
      "metadata": {
        "id": "XE0GI9H1vZgY"
      },
      "execution_count": null,
      "outputs": []
    },
    {
      "cell_type": "code",
      "source": [
        "df['Price'].describe()"
      ],
      "metadata": {
        "id": "6WLFdU5R4vI9",
        "outputId": "10f73b1f-a6aa-4ce8-9d89-dc7a16f60d5f",
        "colab": {
          "base_uri": "https://localhost:8080/",
          "height": 335
        }
      },
      "execution_count": null,
      "outputs": [
        {
          "output_type": "execute_result",
          "data": {
            "text/plain": [
              "count    9.167200e+04\n",
              "mean     3.333467e+06\n",
              "std      7.696764e+06\n",
              "min     -1.514000e+06\n",
              "25%      1.025000e+06\n",
              "50%      1.680000e+06\n",
              "75%      3.150000e+06\n",
              "max      3.837646e+08\n",
              "Name: Price, dtype: float64"
            ],
            "text/html": [
              "<div>\n",
              "<style scoped>\n",
              "    .dataframe tbody tr th:only-of-type {\n",
              "        vertical-align: middle;\n",
              "    }\n",
              "\n",
              "    .dataframe tbody tr th {\n",
              "        vertical-align: top;\n",
              "    }\n",
              "\n",
              "    .dataframe thead th {\n",
              "        text-align: right;\n",
              "    }\n",
              "</style>\n",
              "<table border=\"1\" class=\"dataframe\">\n",
              "  <thead>\n",
              "    <tr style=\"text-align: right;\">\n",
              "      <th></th>\n",
              "      <th>Price</th>\n",
              "    </tr>\n",
              "  </thead>\n",
              "  <tbody>\n",
              "    <tr>\n",
              "      <th>count</th>\n",
              "      <td>9.167200e+04</td>\n",
              "    </tr>\n",
              "    <tr>\n",
              "      <th>mean</th>\n",
              "      <td>3.333467e+06</td>\n",
              "    </tr>\n",
              "    <tr>\n",
              "      <th>std</th>\n",
              "      <td>7.696764e+06</td>\n",
              "    </tr>\n",
              "    <tr>\n",
              "      <th>min</th>\n",
              "      <td>-1.514000e+06</td>\n",
              "    </tr>\n",
              "    <tr>\n",
              "      <th>25%</th>\n",
              "      <td>1.025000e+06</td>\n",
              "    </tr>\n",
              "    <tr>\n",
              "      <th>50%</th>\n",
              "      <td>1.680000e+06</td>\n",
              "    </tr>\n",
              "    <tr>\n",
              "      <th>75%</th>\n",
              "      <td>3.150000e+06</td>\n",
              "    </tr>\n",
              "    <tr>\n",
              "      <th>max</th>\n",
              "      <td>3.837646e+08</td>\n",
              "    </tr>\n",
              "  </tbody>\n",
              "</table>\n",
              "</div><br><label><b>dtype:</b> float64</label>"
            ]
          },
          "metadata": {},
          "execution_count": 129
        }
      ]
    },
    {
      "cell_type": "code",
      "source": [
        "q25 = df['Price'].quantile(0.25)\n",
        "q75 = df['Price'].quantile(0.75)\n",
        "\n",
        "df = df[(df['Price'] >= q25) & (df['Price'] <= q75)].copy()\n",
        "\n"
      ],
      "metadata": {
        "id": "H6cFlvQm5oE6"
      },
      "execution_count": null,
      "outputs": []
    },
    {
      "cell_type": "code",
      "source": [
        "# Columns Transformations\n",
        "\n",
        "# Date FOrmat\n",
        "df[['Created', 'DepartureTime']] = df[['Created', 'DepartureTime']].apply(pd.to_datetime)\n",
        "\n",
        "# Price to €\n",
        "exchange_rate = 0.00002027  # 1 IRR = 0.00002027 EUR\n",
        "df['Price'] = (df['Price'] * exchange_rate).round(2)\n",
        "df['CouponDiscount'] = (df['CouponDiscount'] * exchange_rate).round(2)\n"
      ],
      "metadata": {
        "id": "iMpl89nGm0Ip"
      },
      "execution_count": null,
      "outputs": []
    },
    {
      "cell_type": "code",
      "source": [
        "# Fearure Engineering\n",
        "df['LeadTime'] = df['DepartureTime'] - df['Created']\n",
        "df['IsWeekend'] = df['DepartureTime'].dt.weekday >= 5\n",
        "df['DiscountRatio'] = np.where(df['Price'] > 0, df['CouponDiscount'] / df['Price'], 0)"
      ],
      "metadata": {
        "id": "eIbZbBChiwHb"
      },
      "execution_count": null,
      "outputs": []
    },
    {
      "cell_type": "code",
      "source": [
        "# Rename the column\n",
        "df.rename(columns={'VehicleClass': 'VIPStatus'}, inplace=True)\n",
        "\n",
        "# Replace NaN values with 'Unknown'\n",
        "df['VIPStatus'] = df['VIPStatus'].fillna('Unknown')\n"
      ],
      "metadata": {
        "id": "BWnl6lYw9O1S"
      },
      "execution_count": null,
      "outputs": []
    },
    {
      "cell_type": "code",
      "source": [
        "df.head()"
      ],
      "metadata": {
        "colab": {
          "base_uri": "https://localhost:8080/",
          "height": 313
        },
        "id": "7hawZhQ2lwUm",
        "outputId": "95409502-e7c8-499d-e877-22d566abe554"
      },
      "execution_count": null,
      "outputs": [
        {
          "output_type": "execute_result",
          "data": {
            "text/plain": [
              "                   Created       DepartureTime  ReserveStatus   Male  Price  \\\n",
              "2  2022-09-20 17:25:27.250 2022-09-21 11:00:00              3  False  40.54   \n",
              "7  2022-07-28 13:59:44.843 2022-07-28 16:00:00              3   True  50.27   \n",
              "8  2022-10-23 09:57:18.867 2022-10-24 02:00:00              3   True  24.73   \n",
              "9  2022-03-24 22:16:40.203 2022-03-28 13:00:00              3   True  26.35   \n",
              "14 2022-09-13 20:13:39.853 2022-09-30 20:55:00              2   True  23.48   \n",
              "\n",
              "    CouponDiscount  Domestic VIPStatus TripReason Vehicle  Cancel  \\\n",
              "2              0.0         1      True       Work     Bus       0   \n",
              "7              0.0         1      True       Work     Bus       0   \n",
              "8              0.0         1      True       Work     Bus       0   \n",
              "9              0.0         1      True        Int     Bus       0   \n",
              "14             0.0         1   Unknown        Int   Train       0   \n",
              "\n",
              "                  LeadTime  IsWeekend  DiscountRatio  FromFreq  ToFreq  \n",
              "2   0 days 17:34:32.750000      False            0.0      3394    1311  \n",
              "7   0 days 02:00:15.157000      False            0.0     14641    2671  \n",
              "8   0 days 16:02:41.133000      False            0.0     14641    3607  \n",
              "9   3 days 14:43:19.797000      False            0.0     14641    1327  \n",
              "14 17 days 00:41:20.147000      False            0.0      1759   15161  "
            ],
            "text/html": [
              "\n",
              "  <div id=\"df-96e769d8-8d11-4fdb-9958-4413033f9a9e\" class=\"colab-df-container\">\n",
              "    <div>\n",
              "<style scoped>\n",
              "    .dataframe tbody tr th:only-of-type {\n",
              "        vertical-align: middle;\n",
              "    }\n",
              "\n",
              "    .dataframe tbody tr th {\n",
              "        vertical-align: top;\n",
              "    }\n",
              "\n",
              "    .dataframe thead th {\n",
              "        text-align: right;\n",
              "    }\n",
              "</style>\n",
              "<table border=\"1\" class=\"dataframe\">\n",
              "  <thead>\n",
              "    <tr style=\"text-align: right;\">\n",
              "      <th></th>\n",
              "      <th>Created</th>\n",
              "      <th>DepartureTime</th>\n",
              "      <th>ReserveStatus</th>\n",
              "      <th>Male</th>\n",
              "      <th>Price</th>\n",
              "      <th>CouponDiscount</th>\n",
              "      <th>Domestic</th>\n",
              "      <th>VIPStatus</th>\n",
              "      <th>TripReason</th>\n",
              "      <th>Vehicle</th>\n",
              "      <th>Cancel</th>\n",
              "      <th>LeadTime</th>\n",
              "      <th>IsWeekend</th>\n",
              "      <th>DiscountRatio</th>\n",
              "      <th>FromFreq</th>\n",
              "      <th>ToFreq</th>\n",
              "    </tr>\n",
              "  </thead>\n",
              "  <tbody>\n",
              "    <tr>\n",
              "      <th>2</th>\n",
              "      <td>2022-09-20 17:25:27.250</td>\n",
              "      <td>2022-09-21 11:00:00</td>\n",
              "      <td>3</td>\n",
              "      <td>False</td>\n",
              "      <td>40.54</td>\n",
              "      <td>0.0</td>\n",
              "      <td>1</td>\n",
              "      <td>True</td>\n",
              "      <td>Work</td>\n",
              "      <td>Bus</td>\n",
              "      <td>0</td>\n",
              "      <td>0 days 17:34:32.750000</td>\n",
              "      <td>False</td>\n",
              "      <td>0.0</td>\n",
              "      <td>3394</td>\n",
              "      <td>1311</td>\n",
              "    </tr>\n",
              "    <tr>\n",
              "      <th>7</th>\n",
              "      <td>2022-07-28 13:59:44.843</td>\n",
              "      <td>2022-07-28 16:00:00</td>\n",
              "      <td>3</td>\n",
              "      <td>True</td>\n",
              "      <td>50.27</td>\n",
              "      <td>0.0</td>\n",
              "      <td>1</td>\n",
              "      <td>True</td>\n",
              "      <td>Work</td>\n",
              "      <td>Bus</td>\n",
              "      <td>0</td>\n",
              "      <td>0 days 02:00:15.157000</td>\n",
              "      <td>False</td>\n",
              "      <td>0.0</td>\n",
              "      <td>14641</td>\n",
              "      <td>2671</td>\n",
              "    </tr>\n",
              "    <tr>\n",
              "      <th>8</th>\n",
              "      <td>2022-10-23 09:57:18.867</td>\n",
              "      <td>2022-10-24 02:00:00</td>\n",
              "      <td>3</td>\n",
              "      <td>True</td>\n",
              "      <td>24.73</td>\n",
              "      <td>0.0</td>\n",
              "      <td>1</td>\n",
              "      <td>True</td>\n",
              "      <td>Work</td>\n",
              "      <td>Bus</td>\n",
              "      <td>0</td>\n",
              "      <td>0 days 16:02:41.133000</td>\n",
              "      <td>False</td>\n",
              "      <td>0.0</td>\n",
              "      <td>14641</td>\n",
              "      <td>3607</td>\n",
              "    </tr>\n",
              "    <tr>\n",
              "      <th>9</th>\n",
              "      <td>2022-03-24 22:16:40.203</td>\n",
              "      <td>2022-03-28 13:00:00</td>\n",
              "      <td>3</td>\n",
              "      <td>True</td>\n",
              "      <td>26.35</td>\n",
              "      <td>0.0</td>\n",
              "      <td>1</td>\n",
              "      <td>True</td>\n",
              "      <td>Int</td>\n",
              "      <td>Bus</td>\n",
              "      <td>0</td>\n",
              "      <td>3 days 14:43:19.797000</td>\n",
              "      <td>False</td>\n",
              "      <td>0.0</td>\n",
              "      <td>14641</td>\n",
              "      <td>1327</td>\n",
              "    </tr>\n",
              "    <tr>\n",
              "      <th>14</th>\n",
              "      <td>2022-09-13 20:13:39.853</td>\n",
              "      <td>2022-09-30 20:55:00</td>\n",
              "      <td>2</td>\n",
              "      <td>True</td>\n",
              "      <td>23.48</td>\n",
              "      <td>0.0</td>\n",
              "      <td>1</td>\n",
              "      <td>Unknown</td>\n",
              "      <td>Int</td>\n",
              "      <td>Train</td>\n",
              "      <td>0</td>\n",
              "      <td>17 days 00:41:20.147000</td>\n",
              "      <td>False</td>\n",
              "      <td>0.0</td>\n",
              "      <td>1759</td>\n",
              "      <td>15161</td>\n",
              "    </tr>\n",
              "  </tbody>\n",
              "</table>\n",
              "</div>\n",
              "    <div class=\"colab-df-buttons\">\n",
              "\n",
              "  <div class=\"colab-df-container\">\n",
              "    <button class=\"colab-df-convert\" onclick=\"convertToInteractive('df-96e769d8-8d11-4fdb-9958-4413033f9a9e')\"\n",
              "            title=\"Convert this dataframe to an interactive table.\"\n",
              "            style=\"display:none;\">\n",
              "\n",
              "  <svg xmlns=\"http://www.w3.org/2000/svg\" height=\"24px\" viewBox=\"0 -960 960 960\">\n",
              "    <path d=\"M120-120v-720h720v720H120Zm60-500h600v-160H180v160Zm220 220h160v-160H400v160Zm0 220h160v-160H400v160ZM180-400h160v-160H180v160Zm440 0h160v-160H620v160ZM180-180h160v-160H180v160Zm440 0h160v-160H620v160Z\"/>\n",
              "  </svg>\n",
              "    </button>\n",
              "\n",
              "  <style>\n",
              "    .colab-df-container {\n",
              "      display:flex;\n",
              "      gap: 12px;\n",
              "    }\n",
              "\n",
              "    .colab-df-convert {\n",
              "      background-color: #E8F0FE;\n",
              "      border: none;\n",
              "      border-radius: 50%;\n",
              "      cursor: pointer;\n",
              "      display: none;\n",
              "      fill: #1967D2;\n",
              "      height: 32px;\n",
              "      padding: 0 0 0 0;\n",
              "      width: 32px;\n",
              "    }\n",
              "\n",
              "    .colab-df-convert:hover {\n",
              "      background-color: #E2EBFA;\n",
              "      box-shadow: 0px 1px 2px rgba(60, 64, 67, 0.3), 0px 1px 3px 1px rgba(60, 64, 67, 0.15);\n",
              "      fill: #174EA6;\n",
              "    }\n",
              "\n",
              "    .colab-df-buttons div {\n",
              "      margin-bottom: 4px;\n",
              "    }\n",
              "\n",
              "    [theme=dark] .colab-df-convert {\n",
              "      background-color: #3B4455;\n",
              "      fill: #D2E3FC;\n",
              "    }\n",
              "\n",
              "    [theme=dark] .colab-df-convert:hover {\n",
              "      background-color: #434B5C;\n",
              "      box-shadow: 0px 1px 3px 1px rgba(0, 0, 0, 0.15);\n",
              "      filter: drop-shadow(0px 1px 2px rgba(0, 0, 0, 0.3));\n",
              "      fill: #FFFFFF;\n",
              "    }\n",
              "  </style>\n",
              "\n",
              "    <script>\n",
              "      const buttonEl =\n",
              "        document.querySelector('#df-96e769d8-8d11-4fdb-9958-4413033f9a9e button.colab-df-convert');\n",
              "      buttonEl.style.display =\n",
              "        google.colab.kernel.accessAllowed ? 'block' : 'none';\n",
              "\n",
              "      async function convertToInteractive(key) {\n",
              "        const element = document.querySelector('#df-96e769d8-8d11-4fdb-9958-4413033f9a9e');\n",
              "        const dataTable =\n",
              "          await google.colab.kernel.invokeFunction('convertToInteractive',\n",
              "                                                    [key], {});\n",
              "        if (!dataTable) return;\n",
              "\n",
              "        const docLinkHtml = 'Like what you see? Visit the ' +\n",
              "          '<a target=\"_blank\" href=https://colab.research.google.com/notebooks/data_table.ipynb>data table notebook</a>'\n",
              "          + ' to learn more about interactive tables.';\n",
              "        element.innerHTML = '';\n",
              "        dataTable['output_type'] = 'display_data';\n",
              "        await google.colab.output.renderOutput(dataTable, element);\n",
              "        const docLink = document.createElement('div');\n",
              "        docLink.innerHTML = docLinkHtml;\n",
              "        element.appendChild(docLink);\n",
              "      }\n",
              "    </script>\n",
              "  </div>\n",
              "\n",
              "\n",
              "    <div id=\"df-4d853e83-bc1e-4755-8714-2ea71380c679\">\n",
              "      <button class=\"colab-df-quickchart\" onclick=\"quickchart('df-4d853e83-bc1e-4755-8714-2ea71380c679')\"\n",
              "                title=\"Suggest charts\"\n",
              "                style=\"display:none;\">\n",
              "\n",
              "<svg xmlns=\"http://www.w3.org/2000/svg\" height=\"24px\"viewBox=\"0 0 24 24\"\n",
              "     width=\"24px\">\n",
              "    <g>\n",
              "        <path d=\"M19 3H5c-1.1 0-2 .9-2 2v14c0 1.1.9 2 2 2h14c1.1 0 2-.9 2-2V5c0-1.1-.9-2-2-2zM9 17H7v-7h2v7zm4 0h-2V7h2v10zm4 0h-2v-4h2v4z\"/>\n",
              "    </g>\n",
              "</svg>\n",
              "      </button>\n",
              "\n",
              "<style>\n",
              "  .colab-df-quickchart {\n",
              "      --bg-color: #E8F0FE;\n",
              "      --fill-color: #1967D2;\n",
              "      --hover-bg-color: #E2EBFA;\n",
              "      --hover-fill-color: #174EA6;\n",
              "      --disabled-fill-color: #AAA;\n",
              "      --disabled-bg-color: #DDD;\n",
              "  }\n",
              "\n",
              "  [theme=dark] .colab-df-quickchart {\n",
              "      --bg-color: #3B4455;\n",
              "      --fill-color: #D2E3FC;\n",
              "      --hover-bg-color: #434B5C;\n",
              "      --hover-fill-color: #FFFFFF;\n",
              "      --disabled-bg-color: #3B4455;\n",
              "      --disabled-fill-color: #666;\n",
              "  }\n",
              "\n",
              "  .colab-df-quickchart {\n",
              "    background-color: var(--bg-color);\n",
              "    border: none;\n",
              "    border-radius: 50%;\n",
              "    cursor: pointer;\n",
              "    display: none;\n",
              "    fill: var(--fill-color);\n",
              "    height: 32px;\n",
              "    padding: 0;\n",
              "    width: 32px;\n",
              "  }\n",
              "\n",
              "  .colab-df-quickchart:hover {\n",
              "    background-color: var(--hover-bg-color);\n",
              "    box-shadow: 0 1px 2px rgba(60, 64, 67, 0.3), 0 1px 3px 1px rgba(60, 64, 67, 0.15);\n",
              "    fill: var(--button-hover-fill-color);\n",
              "  }\n",
              "\n",
              "  .colab-df-quickchart-complete:disabled,\n",
              "  .colab-df-quickchart-complete:disabled:hover {\n",
              "    background-color: var(--disabled-bg-color);\n",
              "    fill: var(--disabled-fill-color);\n",
              "    box-shadow: none;\n",
              "  }\n",
              "\n",
              "  .colab-df-spinner {\n",
              "    border: 2px solid var(--fill-color);\n",
              "    border-color: transparent;\n",
              "    border-bottom-color: var(--fill-color);\n",
              "    animation:\n",
              "      spin 1s steps(1) infinite;\n",
              "  }\n",
              "\n",
              "  @keyframes spin {\n",
              "    0% {\n",
              "      border-color: transparent;\n",
              "      border-bottom-color: var(--fill-color);\n",
              "      border-left-color: var(--fill-color);\n",
              "    }\n",
              "    20% {\n",
              "      border-color: transparent;\n",
              "      border-left-color: var(--fill-color);\n",
              "      border-top-color: var(--fill-color);\n",
              "    }\n",
              "    30% {\n",
              "      border-color: transparent;\n",
              "      border-left-color: var(--fill-color);\n",
              "      border-top-color: var(--fill-color);\n",
              "      border-right-color: var(--fill-color);\n",
              "    }\n",
              "    40% {\n",
              "      border-color: transparent;\n",
              "      border-right-color: var(--fill-color);\n",
              "      border-top-color: var(--fill-color);\n",
              "    }\n",
              "    60% {\n",
              "      border-color: transparent;\n",
              "      border-right-color: var(--fill-color);\n",
              "    }\n",
              "    80% {\n",
              "      border-color: transparent;\n",
              "      border-right-color: var(--fill-color);\n",
              "      border-bottom-color: var(--fill-color);\n",
              "    }\n",
              "    90% {\n",
              "      border-color: transparent;\n",
              "      border-bottom-color: var(--fill-color);\n",
              "    }\n",
              "  }\n",
              "</style>\n",
              "\n",
              "      <script>\n",
              "        async function quickchart(key) {\n",
              "          const quickchartButtonEl =\n",
              "            document.querySelector('#' + key + ' button');\n",
              "          quickchartButtonEl.disabled = true;  // To prevent multiple clicks.\n",
              "          quickchartButtonEl.classList.add('colab-df-spinner');\n",
              "          try {\n",
              "            const charts = await google.colab.kernel.invokeFunction(\n",
              "                'suggestCharts', [key], {});\n",
              "          } catch (error) {\n",
              "            console.error('Error during call to suggestCharts:', error);\n",
              "          }\n",
              "          quickchartButtonEl.classList.remove('colab-df-spinner');\n",
              "          quickchartButtonEl.classList.add('colab-df-quickchart-complete');\n",
              "        }\n",
              "        (() => {\n",
              "          let quickchartButtonEl =\n",
              "            document.querySelector('#df-4d853e83-bc1e-4755-8714-2ea71380c679 button');\n",
              "          quickchartButtonEl.style.display =\n",
              "            google.colab.kernel.accessAllowed ? 'block' : 'none';\n",
              "        })();\n",
              "      </script>\n",
              "    </div>\n",
              "\n",
              "    </div>\n",
              "  </div>\n"
            ],
            "application/vnd.google.colaboratory.intrinsic+json": {
              "type": "dataframe",
              "variable_name": "df",
              "summary": "{\n  \"name\": \"df\",\n  \"rows\": 45901,\n  \"fields\": [\n    {\n      \"column\": \"Created\",\n      \"properties\": {\n        \"dtype\": \"date\",\n        \"min\": \"2022-01-31 21:16:08.950000\",\n        \"max\": \"2022-11-03 00:19:24.717000\",\n        \"num_unique_values\": 33955,\n        \"samples\": [\n          \"2022-10-23 19:59:03.903000\",\n          \"2022-10-10 19:24:28.903000\",\n          \"2022-10-13 12:52:47.350000\"\n        ],\n        \"semantic_type\": \"\",\n        \"description\": \"\"\n      }\n    },\n    {\n      \"column\": \"DepartureTime\",\n      \"properties\": {\n        \"dtype\": \"date\",\n        \"min\": \"2022-02-01 13:00:00\",\n        \"max\": \"2022-11-20 00:30:00\",\n        \"num_unique_values\": 17357,\n        \"samples\": [\n          \"2022-07-01 00:20:00\",\n          \"2022-03-21 18:30:00\",\n          \"2022-09-19 02:15:00\"\n        ],\n        \"semantic_type\": \"\",\n        \"description\": \"\"\n      }\n    },\n    {\n      \"column\": \"ReserveStatus\",\n      \"properties\": {\n        \"dtype\": \"number\",\n        \"std\": 0,\n        \"min\": 2,\n        \"max\": 5,\n        \"num_unique_values\": 4,\n        \"samples\": [\n          2,\n          4,\n          3\n        ],\n        \"semantic_type\": \"\",\n        \"description\": \"\"\n      }\n    },\n    {\n      \"column\": \"Male\",\n      \"properties\": {\n        \"dtype\": \"boolean\",\n        \"num_unique_values\": 2,\n        \"samples\": [\n          true,\n          false\n        ],\n        \"semantic_type\": \"\",\n        \"description\": \"\"\n      }\n    },\n    {\n      \"column\": \"Price\",\n      \"properties\": {\n        \"dtype\": \"number\",\n        \"std\": 11.349383413333552,\n        \"min\": 20.78,\n        \"max\": 63.85,\n        \"num_unique_values\": 1421,\n        \"samples\": [\n          22.3,\n          29.02\n        ],\n        \"semantic_type\": \"\",\n        \"description\": \"\"\n      }\n    },\n    {\n      \"column\": \"CouponDiscount\",\n      \"properties\": {\n        \"dtype\": \"number\",\n        \"std\": 0.5860055427161244,\n        \"min\": 0.0,\n        \"max\": 54.05,\n        \"num_unique_values\": 255,\n        \"samples\": [\n          0.32,\n          0.53\n        ],\n        \"semantic_type\": \"\",\n        \"description\": \"\"\n      }\n    },\n    {\n      \"column\": \"Domestic\",\n      \"properties\": {\n        \"dtype\": \"number\",\n        \"std\": 0,\n        \"min\": 0,\n        \"max\": 1,\n        \"num_unique_values\": 2,\n        \"samples\": [\n          0,\n          1\n        ],\n        \"semantic_type\": \"\",\n        \"description\": \"\"\n      }\n    },\n    {\n      \"column\": \"VIPStatus\",\n      \"properties\": {\n        \"dtype\": \"category\",\n        \"num_unique_values\": 3,\n        \"samples\": [\n          true,\n          \"Unknown\"\n        ],\n        \"semantic_type\": \"\",\n        \"description\": \"\"\n      }\n    },\n    {\n      \"column\": \"TripReason\",\n      \"properties\": {\n        \"dtype\": \"category\",\n        \"num_unique_values\": 2,\n        \"samples\": [\n          \"Int\",\n          \"Work\"\n        ],\n        \"semantic_type\": \"\",\n        \"description\": \"\"\n      }\n    },\n    {\n      \"column\": \"Vehicle\",\n      \"properties\": {\n        \"dtype\": \"category\",\n        \"num_unique_values\": 4,\n        \"samples\": [\n          \"Train\",\n          \"InternationalPlane\"\n        ],\n        \"semantic_type\": \"\",\n        \"description\": \"\"\n      }\n    },\n    {\n      \"column\": \"Cancel\",\n      \"properties\": {\n        \"dtype\": \"number\",\n        \"std\": 0,\n        \"min\": 0,\n        \"max\": 1,\n        \"num_unique_values\": 2,\n        \"samples\": [\n          1,\n          0\n        ],\n        \"semantic_type\": \"\",\n        \"description\": \"\"\n      }\n    },\n    {\n      \"column\": \"LeadTime\",\n      \"properties\": {\n        \"dtype\": \"timedelta64[ns]\",\n        \"num_unique_values\": 34532,\n        \"samples\": [\n          \"1 days 11:06:23.533000\",\n          \"0 days 16:33:15.573000\"\n        ],\n        \"semantic_type\": \"\",\n        \"description\": \"\"\n      }\n    },\n    {\n      \"column\": \"IsWeekend\",\n      \"properties\": {\n        \"dtype\": \"boolean\",\n        \"num_unique_values\": 2,\n        \"samples\": [\n          true,\n          false\n        ],\n        \"semantic_type\": \"\",\n        \"description\": \"\"\n      }\n    },\n    {\n      \"column\": \"DiscountRatio\",\n      \"properties\": {\n        \"dtype\": \"number\",\n        \"std\": 0.015095275530223226,\n        \"min\": 0.0,\n        \"max\": 1.1130434782608696,\n        \"num_unique_values\": 1330,\n        \"samples\": [\n          0.0019319938176197838,\n          0.010399334442595675\n        ],\n        \"semantic_type\": \"\",\n        \"description\": \"\"\n      }\n    },\n    {\n      \"column\": \"FromFreq\",\n      \"properties\": {\n        \"dtype\": \"number\",\n        \"std\": 5929,\n        \"min\": 1,\n        \"max\": 14641,\n        \"num_unique_values\": 85,\n        \"samples\": [\n          11,\n          3394\n        ],\n        \"semantic_type\": \"\",\n        \"description\": \"\"\n      }\n    },\n    {\n      \"column\": \"ToFreq\",\n      \"properties\": {\n        \"dtype\": \"number\",\n        \"std\": 6327,\n        \"min\": 1,\n        \"max\": 15161,\n        \"num_unique_values\": 92,\n        \"samples\": [\n          89,\n          127\n        ],\n        \"semantic_type\": \"\",\n        \"description\": \"\"\n      }\n    }\n  ]\n}"
            }
          },
          "metadata": {},
          "execution_count": 141
        }
      ]
    },
    {
      "cell_type": "code",
      "source": [
        "# use of frequency encoding since there is a lot of different cities and other encodings would not make sense\n",
        "# loss of interpretability though\n",
        "\n",
        "df['FromFreq'] = df['From'].map(df['From'].value_counts())\n",
        "df['ToFreq'] = df['To'].map(df['To'].value_counts())\n",
        "\n",
        "# drop the city columns\n",
        "df.drop(columns=['From', 'To'], inplace=True)"
      ],
      "metadata": {
        "id": "qwiOUtwH_7Ue"
      },
      "execution_count": null,
      "outputs": []
    },
    {
      "cell_type": "code",
      "source": [
        "df['DiscountRatio'].describe()"
      ],
      "metadata": {
        "id": "xgOgXipS4FCD",
        "outputId": "e8e88d4b-c5d2-4a72-9de8-80f17c22c6e7",
        "colab": {
          "base_uri": "https://localhost:8080/",
          "height": 335
        }
      },
      "execution_count": null,
      "outputs": [
        {
          "output_type": "execute_result",
          "data": {
            "text/plain": [
              "count    45901.000000\n",
              "mean         0.001288\n",
              "std          0.015095\n",
              "min          0.000000\n",
              "25%          0.000000\n",
              "50%          0.000000\n",
              "75%          0.000000\n",
              "max          1.113043\n",
              "Name: DiscountRatio, dtype: float64"
            ],
            "text/html": [
              "<div>\n",
              "<style scoped>\n",
              "    .dataframe tbody tr th:only-of-type {\n",
              "        vertical-align: middle;\n",
              "    }\n",
              "\n",
              "    .dataframe tbody tr th {\n",
              "        vertical-align: top;\n",
              "    }\n",
              "\n",
              "    .dataframe thead th {\n",
              "        text-align: right;\n",
              "    }\n",
              "</style>\n",
              "<table border=\"1\" class=\"dataframe\">\n",
              "  <thead>\n",
              "    <tr style=\"text-align: right;\">\n",
              "      <th></th>\n",
              "      <th>DiscountRatio</th>\n",
              "    </tr>\n",
              "  </thead>\n",
              "  <tbody>\n",
              "    <tr>\n",
              "      <th>count</th>\n",
              "      <td>45901.000000</td>\n",
              "    </tr>\n",
              "    <tr>\n",
              "      <th>mean</th>\n",
              "      <td>0.001288</td>\n",
              "    </tr>\n",
              "    <tr>\n",
              "      <th>std</th>\n",
              "      <td>0.015095</td>\n",
              "    </tr>\n",
              "    <tr>\n",
              "      <th>min</th>\n",
              "      <td>0.000000</td>\n",
              "    </tr>\n",
              "    <tr>\n",
              "      <th>25%</th>\n",
              "      <td>0.000000</td>\n",
              "    </tr>\n",
              "    <tr>\n",
              "      <th>50%</th>\n",
              "      <td>0.000000</td>\n",
              "    </tr>\n",
              "    <tr>\n",
              "      <th>75%</th>\n",
              "      <td>0.000000</td>\n",
              "    </tr>\n",
              "    <tr>\n",
              "      <th>max</th>\n",
              "      <td>1.113043</td>\n",
              "    </tr>\n",
              "  </tbody>\n",
              "</table>\n",
              "</div><br><label><b>dtype:</b> float64</label>"
            ]
          },
          "metadata": {},
          "execution_count": 136
        }
      ]
    },
    {
      "cell_type": "code",
      "source": [
        "df['Vehicle'].value_counts()"
      ],
      "metadata": {
        "colab": {
          "base_uri": "https://localhost:8080/",
          "height": 241
        },
        "id": "TVMfWpIVn6CD",
        "outputId": "d2fd1c22-09f1-4252-ca86-44b2dadf52fc"
      },
      "execution_count": null,
      "outputs": [
        {
          "output_type": "execute_result",
          "data": {
            "text/plain": [
              "Vehicle\n",
              "Bus                   26712\n",
              "Train                 19001\n",
              "Plane                   184\n",
              "InternationalPlane        4\n",
              "Name: count, dtype: int64"
            ],
            "text/html": [
              "<div>\n",
              "<style scoped>\n",
              "    .dataframe tbody tr th:only-of-type {\n",
              "        vertical-align: middle;\n",
              "    }\n",
              "\n",
              "    .dataframe tbody tr th {\n",
              "        vertical-align: top;\n",
              "    }\n",
              "\n",
              "    .dataframe thead th {\n",
              "        text-align: right;\n",
              "    }\n",
              "</style>\n",
              "<table border=\"1\" class=\"dataframe\">\n",
              "  <thead>\n",
              "    <tr style=\"text-align: right;\">\n",
              "      <th></th>\n",
              "      <th>count</th>\n",
              "    </tr>\n",
              "    <tr>\n",
              "      <th>Vehicle</th>\n",
              "      <th></th>\n",
              "    </tr>\n",
              "  </thead>\n",
              "  <tbody>\n",
              "    <tr>\n",
              "      <th>Bus</th>\n",
              "      <td>26712</td>\n",
              "    </tr>\n",
              "    <tr>\n",
              "      <th>Train</th>\n",
              "      <td>19001</td>\n",
              "    </tr>\n",
              "    <tr>\n",
              "      <th>Plane</th>\n",
              "      <td>184</td>\n",
              "    </tr>\n",
              "    <tr>\n",
              "      <th>InternationalPlane</th>\n",
              "      <td>4</td>\n",
              "    </tr>\n",
              "  </tbody>\n",
              "</table>\n",
              "</div><br><label><b>dtype:</b> int64</label>"
            ]
          },
          "metadata": {},
          "execution_count": 142
        }
      ]
    },
    {
      "cell_type": "code",
      "source": [
        "# Create a copy of the cleaned DataFrame\n",
        "cleaned_data = df.copy()"
      ],
      "metadata": {
        "id": "8XC2qlpv7NT-"
      },
      "execution_count": 162,
      "outputs": []
    },
    {
      "cell_type": "code",
      "source": [
        "cleaned_data['Cancel'].value_counts()"
      ],
      "metadata": {
        "id": "tx7ktr7BJMnB",
        "outputId": "9f12e3e8-cd83-48dd-e0cd-14692c388dbe",
        "colab": {
          "base_uri": "https://localhost:8080/",
          "height": 178
        }
      },
      "execution_count": null,
      "outputs": [
        {
          "output_type": "execute_result",
          "data": {
            "text/plain": [
              "Cancel\n",
              "0    38291\n",
              "1     7610\n",
              "Name: count, dtype: int64"
            ],
            "text/html": [
              "<div>\n",
              "<style scoped>\n",
              "    .dataframe tbody tr th:only-of-type {\n",
              "        vertical-align: middle;\n",
              "    }\n",
              "\n",
              "    .dataframe tbody tr th {\n",
              "        vertical-align: top;\n",
              "    }\n",
              "\n",
              "    .dataframe thead th {\n",
              "        text-align: right;\n",
              "    }\n",
              "</style>\n",
              "<table border=\"1\" class=\"dataframe\">\n",
              "  <thead>\n",
              "    <tr style=\"text-align: right;\">\n",
              "      <th></th>\n",
              "      <th>count</th>\n",
              "    </tr>\n",
              "    <tr>\n",
              "      <th>Cancel</th>\n",
              "      <th></th>\n",
              "    </tr>\n",
              "  </thead>\n",
              "  <tbody>\n",
              "    <tr>\n",
              "      <th>0</th>\n",
              "      <td>38291</td>\n",
              "    </tr>\n",
              "    <tr>\n",
              "      <th>1</th>\n",
              "      <td>7610</td>\n",
              "    </tr>\n",
              "  </tbody>\n",
              "</table>\n",
              "</div><br><label><b>dtype:</b> int64</label>"
            ]
          },
          "metadata": {},
          "execution_count": 161
        }
      ]
    },
    {
      "cell_type": "code",
      "source": [
        "from sklearn.preprocessing import OneHotEncoder\n",
        "from sklearn.compose import ColumnTransformer\n",
        "from sklearn.preprocessing import StandardScaler\n",
        "from sklearn.pipeline import Pipeline\n",
        "from sklearn.linear_model import LogisticRegression\n",
        "\n",
        "\n",
        "scaler = StandardScaler()\n",
        "\n",
        "categorical_cols = ['TripReason', 'VIPStatus','Vehicle']\n",
        "\n",
        "encoder = ColumnTransformer([\n",
        "    ('onehot', OneHotEncoder(handle_unknown='ignore'), categorical_cols)\n",
        "], remainder='passthrough')\n"
      ],
      "metadata": {
        "id": "MKWGIS4L-Qj-"
      },
      "execution_count": 163,
      "outputs": []
    },
    {
      "cell_type": "code",
      "source": [
        "from sklearn.model_selection import train_test_split\n",
        "\n",
        "X = df.drop(columns='Cancel')  # Features\n",
        "y = df['Cancel']               # Target\n",
        "\n",
        "X_train, X_test, y_train, y_test = train_test_split(\n",
        "    X, y, test_size=0.2, random_state=42, stratify=y\n",
        ")\n"
      ],
      "metadata": {
        "id": "O6TLQXiULRhA"
      },
      "execution_count": 164,
      "outputs": []
    },
    {
      "cell_type": "code",
      "source": [
        "from imblearn.over_sampling import SMOTE\n",
        "\n",
        "smote = SMOTE(random_state=42)"
      ],
      "metadata": {
        "id": "SyQYBCy6LMTA"
      },
      "execution_count": null,
      "outputs": []
    },
    {
      "cell_type": "code",
      "source": [
        "model = LogisticRegression(\n",
        "    penalty='l2',         # or 'l1', 'elasticnet', 'none'\n",
        "    solver='liblinear',   # good for small datasets and 'l1' penalty\n",
        "    max_iter=1000,        # increase if convergence warnings appear\n",
        "    class_weight='balanced',  # handles class imbalance automatically\n",
        "    random_state=42       # ensures reproducibility\n",
        ")"
      ],
      "metadata": {
        "id": "-0AfZX0BFRiy"
      },
      "execution_count": null,
      "outputs": []
    },
    {
      "cell_type": "code",
      "source": [
        "pipeline = Pipeline([\n",
        "    ('preprocessing', encoder),\n",
        "    ('scaling', scaler),\n",
        "    ('smote', smote),\n",
        "    ('model', model)\n",
        "])"
      ],
      "metadata": {
        "id": "3wAOpH4t_acD"
      },
      "execution_count": null,
      "outputs": []
    },
    {
      "cell_type": "code",
      "source": [
        "from sklearn.model_selection import GridSearchCV\n",
        "\n",
        "param_grid = {\n",
        "    'model__C': [0.01, 0.1, 1, 10],\n",
        "    'model__penalty': ['l1','l2'],\n",
        "    'model__solver': ['liblinear'],\n",
        "}\n",
        "\n",
        "# GridSearchCV setup\n",
        "grid_search = GridSearchCV(\n",
        "    pipeline,\n",
        "    param_grid,\n",
        "    cv=5,                # 5-fold cross-validation\n",
        "    scoring='accuracy',  # or use another metric\n",
        "    n_jobs=-1            # use all available cores\n",
        ")"
      ],
      "metadata": {
        "id": "4rrVpY-bIngk"
      },
      "execution_count": null,
      "outputs": []
    },
    {
      "cell_type": "code",
      "source": [
        "# Fit grid search on your data\n",
        "grid_search.fit(X_train, y_train)\n",
        "\n",
        "print(\"Best parameters:\", grid_search.best_params_)\n",
        "print(\"Best cross-validation score:\", grid_search.best_score_)"
      ],
      "metadata": {
        "id": "nc2QYDdMItwX"
      },
      "execution_count": null,
      "outputs": []
    }
  ]
}