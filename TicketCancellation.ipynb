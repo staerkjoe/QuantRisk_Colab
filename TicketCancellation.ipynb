{
  "nbformat": 4,
  "nbformat_minor": 0,
  "metadata": {
    "colab": {
      "provenance": [],
      "authorship_tag": "ABX9TyMo/JtUm7whMw4GXStAT1XF",
      "include_colab_link": true
    },
    "kernelspec": {
      "name": "python3",
      "display_name": "Python 3"
    },
    "language_info": {
      "name": "python"
    }
  },
  "cells": [
    {
      "cell_type": "markdown",
      "metadata": {
        "id": "view-in-github",
        "colab_type": "text"
      },
      "source": [
        "<a href=\"https://colab.research.google.com/github/staerkjoe/QuantRisk_Colab/blob/main/TicketCancellation.ipynb\" target=\"_parent\"><img src=\"https://colab.research.google.com/assets/colab-badge.svg\" alt=\"Open In Colab\"/></a>"
      ]
    },
    {
      "cell_type": "code",
      "execution_count": 1,
      "metadata": {
        "id": "AkctrGk8exjP",
        "colab": {
          "base_uri": "https://localhost:8080/"
        },
        "outputId": "d3a27e6e-2c8f-4798-936b-0ecbe981c273"
      },
      "outputs": [
        {
          "output_type": "stream",
          "name": "stdout",
          "text": [
            "Downloading from https://www.kaggle.com/api/v1/datasets/download/pkdarabi/classification-of-travel-purpose?dataset_version_number=1...\n"
          ]
        },
        {
          "output_type": "stream",
          "name": "stderr",
          "text": [
            "100%|██████████| 7.30M/7.30M [00:00<00:00, 40.3MB/s]"
          ]
        },
        {
          "output_type": "stream",
          "name": "stdout",
          "text": [
            "Extracting files...\n"
          ]
        },
        {
          "output_type": "stream",
          "name": "stderr",
          "text": [
            "\n"
          ]
        },
        {
          "output_type": "stream",
          "name": "stdout",
          "text": [
            "Path to dataset files: /root/.cache/kagglehub/datasets/pkdarabi/classification-of-travel-purpose/versions/1\n"
          ]
        }
      ],
      "source": [
        "import kagglehub\n",
        "\n",
        "# Download latest version\n",
        "path = kagglehub.dataset_download(\"pkdarabi/classification-of-travel-purpose\")\n",
        "\n",
        "print(\"Path to dataset files:\", path)"
      ]
    },
    {
      "cell_type": "markdown",
      "source": [
        "Link to dataset:\n",
        "https://www.kaggle.com/datasets/pkdarabi/classification-of-travel-purpose"
      ],
      "metadata": {
        "id": "n4HaE3IJoHil"
      }
    },
    {
      "cell_type": "code",
      "source": [
        "import tensorflow as tf\n",
        "import tf_keras as keras\n",
        "import pandas as pd\n",
        "# note: tensorflow 2.17 onwards uses tf.keras 3.0 internally,\n",
        "# which seem to be still bugged and inconsistent.\n",
        "# We therefore use tf_keras in according to tensorflow version.\n",
        "\n",
        "import numpy as np\n",
        "import os\n",
        "import time"
      ],
      "metadata": {
        "id": "aTjNRTYDfT5G"
      },
      "execution_count": 2,
      "outputs": []
    },
    {
      "cell_type": "code",
      "source": [
        "for file in os.listdir(path):\n",
        "    print(file)"
      ],
      "metadata": {
        "colab": {
          "base_uri": "https://localhost:8080/"
        },
        "id": "MyzVc2iihsSM",
        "outputId": "e3b1653a-3d51-49ad-84a2-cb18cac9fd56"
      },
      "execution_count": 4,
      "outputs": [
        {
          "output_type": "stream",
          "name": "stdout",
          "text": [
            "train_data.csv\n"
          ]
        }
      ]
    },
    {
      "cell_type": "code",
      "source": [
        "df = pd.read_csv(os.path.join(path, \"train_data.csv\"))"
      ],
      "metadata": {
        "id": "kP1swOKDfut7"
      },
      "execution_count": 5,
      "outputs": []
    },
    {
      "cell_type": "code",
      "source": [
        "# drop columns that are unnecessary/not helpful for prediction\n",
        "\n",
        "# List of columns to drop\n",
        "drop_cols = [\n",
        "    'BillID',               # Unique identifier\n",
        "    'TicketID',             # Unique identifier\n",
        "    'UserID',               # Sparse and semi-unique\n",
        "    'BuyerMobile',          # Personal identifier\n",
        "    'NationalCode',         # Personal identifier\n",
        "    'HashPassportNumber_p', # Sparse and hashed\n",
        "    'HashEmail',            # Sparse and hashed\n",
        "    'CancelTime'            # Leaks target label\n",
        "]\n",
        "\n",
        "# Drop columns from DataFrame\n",
        "df = df.drop(columns=drop_cols)\n",
        "\n",
        "# Optional: Confirm result\n",
        "print(\"Remaining columns:\", df.columns.tolist())\n"
      ],
      "metadata": {
        "colab": {
          "base_uri": "https://localhost:8080/"
        },
        "id": "c7XD0U7Kh7l5",
        "outputId": "79ff6942-ccab-45bd-a0b8-7ef48bd8adeb"
      },
      "execution_count": 13,
      "outputs": [
        {
          "output_type": "stream",
          "name": "stdout",
          "text": [
            "Remaining columns: ['Created', 'DepartureTime', 'ReserveStatus', 'Male', 'Price', 'CouponDiscount', 'From', 'To', 'Domestic', 'VehicleType', 'VehicleClass', 'TripReason', 'Vehicle', 'Cancel']\n"
          ]
        }
      ]
    },
    {
      "cell_type": "code",
      "source": [
        "# Columns Transformations\n",
        "\n",
        "# Date FOrmat\n",
        "df[['Created', 'DepartureTime']] = df[['Created', 'DepartureTime']].apply(pd.to_datetime)\n",
        "\n",
        "# Price to €\n",
        "exchange_rate = 0.00002027  # 1 IRR = 0.00002027 EUR\n",
        "df['Price'] = (df['Price'] * exchange_rate).round(2)\n",
        "df['CouponDiscount'] = (df['CouponDiscount'] * exchange_rate).round(2)\n"
      ],
      "metadata": {
        "id": "iMpl89nGm0Ip"
      },
      "execution_count": 26,
      "outputs": []
    },
    {
      "cell_type": "code",
      "source": [
        "# Fearure Engineering\n",
        "df['LeadTime'] = df['DepartureTime'] - df['Created']\n",
        "df['IsWeekend'] = df['DepartureTime'].dt.weekday >= 5\n",
        "df['DiscountRatio'] = df['CouponDiscount'] / df['Price']"
      ],
      "metadata": {
        "id": "eIbZbBChiwHb"
      },
      "execution_count": 27,
      "outputs": []
    },
    {
      "cell_type": "code",
      "source": [
        "df.info()"
      ],
      "metadata": {
        "colab": {
          "base_uri": "https://localhost:8080/"
        },
        "id": "7SRqCP7ph3Is",
        "outputId": "c3267224-d385-4fe0-9bcf-b678880b2b1e"
      },
      "execution_count": 28,
      "outputs": [
        {
          "output_type": "stream",
          "name": "stdout",
          "text": [
            "<class 'pandas.core.frame.DataFrame'>\n",
            "RangeIndex: 101017 entries, 0 to 101016\n",
            "Data columns (total 17 columns):\n",
            " #   Column          Non-Null Count   Dtype          \n",
            "---  ------          --------------   -----          \n",
            " 0   Created         101017 non-null  datetime64[ns] \n",
            " 1   DepartureTime   101017 non-null  datetime64[ns] \n",
            " 2   ReserveStatus   101017 non-null  int64          \n",
            " 3   Male            101017 non-null  bool           \n",
            " 4   Price           101017 non-null  float64        \n",
            " 5   CouponDiscount  101017 non-null  float64        \n",
            " 6   From            101017 non-null  object         \n",
            " 7   To              101017 non-null  object         \n",
            " 8   Domestic        101017 non-null  int64          \n",
            " 9   VehicleType     93473 non-null   object         \n",
            " 10  VehicleClass    62567 non-null   object         \n",
            " 11  TripReason      101017 non-null  object         \n",
            " 12  Vehicle         101017 non-null  object         \n",
            " 13  Cancel          101017 non-null  int64          \n",
            " 14  LeadTime        101017 non-null  timedelta64[ns]\n",
            " 15  IsWeekend       101017 non-null  bool           \n",
            " 16  DiscountRatio   8491 non-null    float64        \n",
            "dtypes: bool(2), datetime64[ns](2), float64(3), int64(3), object(6), timedelta64[ns](1)\n",
            "memory usage: 11.8+ MB\n"
          ]
        }
      ]
    },
    {
      "cell_type": "code",
      "source": [
        "df.head()"
      ],
      "metadata": {
        "colab": {
          "base_uri": "https://localhost:8080/",
          "height": 348
        },
        "id": "7hawZhQ2lwUm",
        "outputId": "086bd6ba-4277-48d8-f18b-dedc9356bc43"
      },
      "execution_count": 29,
      "outputs": [
        {
          "output_type": "execute_result",
          "data": {
            "text/plain": [
              "                  Created       DepartureTime  ReserveStatus   Male  Price  \\\n",
              "0 2022-10-23 09:38:49.110 2022-11-02 23:59:00              5   True    0.0   \n",
              "1 2022-08-15 14:51:43.160 2022-08-18 04:15:00              5   True    0.0   \n",
              "2 2022-09-20 17:25:27.250 2022-09-21 11:00:00              3  False    0.0   \n",
              "3 2022-06-25 11:32:53.980 2022-06-26 08:30:00              2  False    0.0   \n",
              "4 2022-06-01 11:30:53.633 2022-06-02 23:00:00              3   True    0.0   \n",
              "\n",
              "   CouponDiscount   From                  To  Domestic  \\\n",
              "0             0.7  گرگان               تهران         1   \n",
              "1             0.0   مشهد               تهران         1   \n",
              "2             0.0  شیراز               اهواز         1   \n",
              "3             0.0  تبریز                جلفا         1   \n",
              "4             0.0  تهران  نجف آباد (اصفهان )         1   \n",
              "\n",
              "               VehicleType VehicleClass TripReason Vehicle  Cancel  \\\n",
              "0                      NaN        False       Work   Plane       0   \n",
              "1                      NaN        False        Int   Plane       0   \n",
              "2                  VIP 2+1         True       Work     Bus       0   \n",
              "3          3 ستاره اتوبوسي          NaN        Int   Train       0   \n",
              "4  اسکانیا تک صندلی ۳۱نفره         True        Int     Bus       0   \n",
              "\n",
              "                 LeadTime  IsWeekend  DiscountRatio  \n",
              "0 10 days 14:20:10.890000      False            inf  \n",
              "1  2 days 13:23:16.840000      False            NaN  \n",
              "2  0 days 17:34:32.750000      False            NaN  \n",
              "3  0 days 20:57:06.020000       True            NaN  \n",
              "4  1 days 11:29:06.367000      False            NaN  "
            ],
            "text/html": [
              "\n",
              "  <div id=\"df-a74fc53d-6992-455f-9845-3f0730cb8bfc\" class=\"colab-df-container\">\n",
              "    <div>\n",
              "<style scoped>\n",
              "    .dataframe tbody tr th:only-of-type {\n",
              "        vertical-align: middle;\n",
              "    }\n",
              "\n",
              "    .dataframe tbody tr th {\n",
              "        vertical-align: top;\n",
              "    }\n",
              "\n",
              "    .dataframe thead th {\n",
              "        text-align: right;\n",
              "    }\n",
              "</style>\n",
              "<table border=\"1\" class=\"dataframe\">\n",
              "  <thead>\n",
              "    <tr style=\"text-align: right;\">\n",
              "      <th></th>\n",
              "      <th>Created</th>\n",
              "      <th>DepartureTime</th>\n",
              "      <th>ReserveStatus</th>\n",
              "      <th>Male</th>\n",
              "      <th>Price</th>\n",
              "      <th>CouponDiscount</th>\n",
              "      <th>From</th>\n",
              "      <th>To</th>\n",
              "      <th>Domestic</th>\n",
              "      <th>VehicleType</th>\n",
              "      <th>VehicleClass</th>\n",
              "      <th>TripReason</th>\n",
              "      <th>Vehicle</th>\n",
              "      <th>Cancel</th>\n",
              "      <th>LeadTime</th>\n",
              "      <th>IsWeekend</th>\n",
              "      <th>DiscountRatio</th>\n",
              "    </tr>\n",
              "  </thead>\n",
              "  <tbody>\n",
              "    <tr>\n",
              "      <th>0</th>\n",
              "      <td>2022-10-23 09:38:49.110</td>\n",
              "      <td>2022-11-02 23:59:00</td>\n",
              "      <td>5</td>\n",
              "      <td>True</td>\n",
              "      <td>0.0</td>\n",
              "      <td>0.7</td>\n",
              "      <td>گرگان</td>\n",
              "      <td>تهران</td>\n",
              "      <td>1</td>\n",
              "      <td>NaN</td>\n",
              "      <td>False</td>\n",
              "      <td>Work</td>\n",
              "      <td>Plane</td>\n",
              "      <td>0</td>\n",
              "      <td>10 days 14:20:10.890000</td>\n",
              "      <td>False</td>\n",
              "      <td>inf</td>\n",
              "    </tr>\n",
              "    <tr>\n",
              "      <th>1</th>\n",
              "      <td>2022-08-15 14:51:43.160</td>\n",
              "      <td>2022-08-18 04:15:00</td>\n",
              "      <td>5</td>\n",
              "      <td>True</td>\n",
              "      <td>0.0</td>\n",
              "      <td>0.0</td>\n",
              "      <td>مشهد</td>\n",
              "      <td>تهران</td>\n",
              "      <td>1</td>\n",
              "      <td>NaN</td>\n",
              "      <td>False</td>\n",
              "      <td>Int</td>\n",
              "      <td>Plane</td>\n",
              "      <td>0</td>\n",
              "      <td>2 days 13:23:16.840000</td>\n",
              "      <td>False</td>\n",
              "      <td>NaN</td>\n",
              "    </tr>\n",
              "    <tr>\n",
              "      <th>2</th>\n",
              "      <td>2022-09-20 17:25:27.250</td>\n",
              "      <td>2022-09-21 11:00:00</td>\n",
              "      <td>3</td>\n",
              "      <td>False</td>\n",
              "      <td>0.0</td>\n",
              "      <td>0.0</td>\n",
              "      <td>شیراز</td>\n",
              "      <td>اهواز</td>\n",
              "      <td>1</td>\n",
              "      <td>VIP 2+1</td>\n",
              "      <td>True</td>\n",
              "      <td>Work</td>\n",
              "      <td>Bus</td>\n",
              "      <td>0</td>\n",
              "      <td>0 days 17:34:32.750000</td>\n",
              "      <td>False</td>\n",
              "      <td>NaN</td>\n",
              "    </tr>\n",
              "    <tr>\n",
              "      <th>3</th>\n",
              "      <td>2022-06-25 11:32:53.980</td>\n",
              "      <td>2022-06-26 08:30:00</td>\n",
              "      <td>2</td>\n",
              "      <td>False</td>\n",
              "      <td>0.0</td>\n",
              "      <td>0.0</td>\n",
              "      <td>تبریز</td>\n",
              "      <td>جلفا</td>\n",
              "      <td>1</td>\n",
              "      <td>3 ستاره اتوبوسي</td>\n",
              "      <td>NaN</td>\n",
              "      <td>Int</td>\n",
              "      <td>Train</td>\n",
              "      <td>0</td>\n",
              "      <td>0 days 20:57:06.020000</td>\n",
              "      <td>True</td>\n",
              "      <td>NaN</td>\n",
              "    </tr>\n",
              "    <tr>\n",
              "      <th>4</th>\n",
              "      <td>2022-06-01 11:30:53.633</td>\n",
              "      <td>2022-06-02 23:00:00</td>\n",
              "      <td>3</td>\n",
              "      <td>True</td>\n",
              "      <td>0.0</td>\n",
              "      <td>0.0</td>\n",
              "      <td>تهران</td>\n",
              "      <td>نجف آباد (اصفهان )</td>\n",
              "      <td>1</td>\n",
              "      <td>اسکانیا تک صندلی ۳۱نفره</td>\n",
              "      <td>True</td>\n",
              "      <td>Int</td>\n",
              "      <td>Bus</td>\n",
              "      <td>0</td>\n",
              "      <td>1 days 11:29:06.367000</td>\n",
              "      <td>False</td>\n",
              "      <td>NaN</td>\n",
              "    </tr>\n",
              "  </tbody>\n",
              "</table>\n",
              "</div>\n",
              "    <div class=\"colab-df-buttons\">\n",
              "\n",
              "  <div class=\"colab-df-container\">\n",
              "    <button class=\"colab-df-convert\" onclick=\"convertToInteractive('df-a74fc53d-6992-455f-9845-3f0730cb8bfc')\"\n",
              "            title=\"Convert this dataframe to an interactive table.\"\n",
              "            style=\"display:none;\">\n",
              "\n",
              "  <svg xmlns=\"http://www.w3.org/2000/svg\" height=\"24px\" viewBox=\"0 -960 960 960\">\n",
              "    <path d=\"M120-120v-720h720v720H120Zm60-500h600v-160H180v160Zm220 220h160v-160H400v160Zm0 220h160v-160H400v160ZM180-400h160v-160H180v160Zm440 0h160v-160H620v160ZM180-180h160v-160H180v160Zm440 0h160v-160H620v160Z\"/>\n",
              "  </svg>\n",
              "    </button>\n",
              "\n",
              "  <style>\n",
              "    .colab-df-container {\n",
              "      display:flex;\n",
              "      gap: 12px;\n",
              "    }\n",
              "\n",
              "    .colab-df-convert {\n",
              "      background-color: #E8F0FE;\n",
              "      border: none;\n",
              "      border-radius: 50%;\n",
              "      cursor: pointer;\n",
              "      display: none;\n",
              "      fill: #1967D2;\n",
              "      height: 32px;\n",
              "      padding: 0 0 0 0;\n",
              "      width: 32px;\n",
              "    }\n",
              "\n",
              "    .colab-df-convert:hover {\n",
              "      background-color: #E2EBFA;\n",
              "      box-shadow: 0px 1px 2px rgba(60, 64, 67, 0.3), 0px 1px 3px 1px rgba(60, 64, 67, 0.15);\n",
              "      fill: #174EA6;\n",
              "    }\n",
              "\n",
              "    .colab-df-buttons div {\n",
              "      margin-bottom: 4px;\n",
              "    }\n",
              "\n",
              "    [theme=dark] .colab-df-convert {\n",
              "      background-color: #3B4455;\n",
              "      fill: #D2E3FC;\n",
              "    }\n",
              "\n",
              "    [theme=dark] .colab-df-convert:hover {\n",
              "      background-color: #434B5C;\n",
              "      box-shadow: 0px 1px 3px 1px rgba(0, 0, 0, 0.15);\n",
              "      filter: drop-shadow(0px 1px 2px rgba(0, 0, 0, 0.3));\n",
              "      fill: #FFFFFF;\n",
              "    }\n",
              "  </style>\n",
              "\n",
              "    <script>\n",
              "      const buttonEl =\n",
              "        document.querySelector('#df-a74fc53d-6992-455f-9845-3f0730cb8bfc button.colab-df-convert');\n",
              "      buttonEl.style.display =\n",
              "        google.colab.kernel.accessAllowed ? 'block' : 'none';\n",
              "\n",
              "      async function convertToInteractive(key) {\n",
              "        const element = document.querySelector('#df-a74fc53d-6992-455f-9845-3f0730cb8bfc');\n",
              "        const dataTable =\n",
              "          await google.colab.kernel.invokeFunction('convertToInteractive',\n",
              "                                                    [key], {});\n",
              "        if (!dataTable) return;\n",
              "\n",
              "        const docLinkHtml = 'Like what you see? Visit the ' +\n",
              "          '<a target=\"_blank\" href=https://colab.research.google.com/notebooks/data_table.ipynb>data table notebook</a>'\n",
              "          + ' to learn more about interactive tables.';\n",
              "        element.innerHTML = '';\n",
              "        dataTable['output_type'] = 'display_data';\n",
              "        await google.colab.output.renderOutput(dataTable, element);\n",
              "        const docLink = document.createElement('div');\n",
              "        docLink.innerHTML = docLinkHtml;\n",
              "        element.appendChild(docLink);\n",
              "      }\n",
              "    </script>\n",
              "  </div>\n",
              "\n",
              "\n",
              "    <div id=\"df-43b52396-4312-4f14-8f8c-1be07f44ac5a\">\n",
              "      <button class=\"colab-df-quickchart\" onclick=\"quickchart('df-43b52396-4312-4f14-8f8c-1be07f44ac5a')\"\n",
              "                title=\"Suggest charts\"\n",
              "                style=\"display:none;\">\n",
              "\n",
              "<svg xmlns=\"http://www.w3.org/2000/svg\" height=\"24px\"viewBox=\"0 0 24 24\"\n",
              "     width=\"24px\">\n",
              "    <g>\n",
              "        <path d=\"M19 3H5c-1.1 0-2 .9-2 2v14c0 1.1.9 2 2 2h14c1.1 0 2-.9 2-2V5c0-1.1-.9-2-2-2zM9 17H7v-7h2v7zm4 0h-2V7h2v10zm4 0h-2v-4h2v4z\"/>\n",
              "    </g>\n",
              "</svg>\n",
              "      </button>\n",
              "\n",
              "<style>\n",
              "  .colab-df-quickchart {\n",
              "      --bg-color: #E8F0FE;\n",
              "      --fill-color: #1967D2;\n",
              "      --hover-bg-color: #E2EBFA;\n",
              "      --hover-fill-color: #174EA6;\n",
              "      --disabled-fill-color: #AAA;\n",
              "      --disabled-bg-color: #DDD;\n",
              "  }\n",
              "\n",
              "  [theme=dark] .colab-df-quickchart {\n",
              "      --bg-color: #3B4455;\n",
              "      --fill-color: #D2E3FC;\n",
              "      --hover-bg-color: #434B5C;\n",
              "      --hover-fill-color: #FFFFFF;\n",
              "      --disabled-bg-color: #3B4455;\n",
              "      --disabled-fill-color: #666;\n",
              "  }\n",
              "\n",
              "  .colab-df-quickchart {\n",
              "    background-color: var(--bg-color);\n",
              "    border: none;\n",
              "    border-radius: 50%;\n",
              "    cursor: pointer;\n",
              "    display: none;\n",
              "    fill: var(--fill-color);\n",
              "    height: 32px;\n",
              "    padding: 0;\n",
              "    width: 32px;\n",
              "  }\n",
              "\n",
              "  .colab-df-quickchart:hover {\n",
              "    background-color: var(--hover-bg-color);\n",
              "    box-shadow: 0 1px 2px rgba(60, 64, 67, 0.3), 0 1px 3px 1px rgba(60, 64, 67, 0.15);\n",
              "    fill: var(--button-hover-fill-color);\n",
              "  }\n",
              "\n",
              "  .colab-df-quickchart-complete:disabled,\n",
              "  .colab-df-quickchart-complete:disabled:hover {\n",
              "    background-color: var(--disabled-bg-color);\n",
              "    fill: var(--disabled-fill-color);\n",
              "    box-shadow: none;\n",
              "  }\n",
              "\n",
              "  .colab-df-spinner {\n",
              "    border: 2px solid var(--fill-color);\n",
              "    border-color: transparent;\n",
              "    border-bottom-color: var(--fill-color);\n",
              "    animation:\n",
              "      spin 1s steps(1) infinite;\n",
              "  }\n",
              "\n",
              "  @keyframes spin {\n",
              "    0% {\n",
              "      border-color: transparent;\n",
              "      border-bottom-color: var(--fill-color);\n",
              "      border-left-color: var(--fill-color);\n",
              "    }\n",
              "    20% {\n",
              "      border-color: transparent;\n",
              "      border-left-color: var(--fill-color);\n",
              "      border-top-color: var(--fill-color);\n",
              "    }\n",
              "    30% {\n",
              "      border-color: transparent;\n",
              "      border-left-color: var(--fill-color);\n",
              "      border-top-color: var(--fill-color);\n",
              "      border-right-color: var(--fill-color);\n",
              "    }\n",
              "    40% {\n",
              "      border-color: transparent;\n",
              "      border-right-color: var(--fill-color);\n",
              "      border-top-color: var(--fill-color);\n",
              "    }\n",
              "    60% {\n",
              "      border-color: transparent;\n",
              "      border-right-color: var(--fill-color);\n",
              "    }\n",
              "    80% {\n",
              "      border-color: transparent;\n",
              "      border-right-color: var(--fill-color);\n",
              "      border-bottom-color: var(--fill-color);\n",
              "    }\n",
              "    90% {\n",
              "      border-color: transparent;\n",
              "      border-bottom-color: var(--fill-color);\n",
              "    }\n",
              "  }\n",
              "</style>\n",
              "\n",
              "      <script>\n",
              "        async function quickchart(key) {\n",
              "          const quickchartButtonEl =\n",
              "            document.querySelector('#' + key + ' button');\n",
              "          quickchartButtonEl.disabled = true;  // To prevent multiple clicks.\n",
              "          quickchartButtonEl.classList.add('colab-df-spinner');\n",
              "          try {\n",
              "            const charts = await google.colab.kernel.invokeFunction(\n",
              "                'suggestCharts', [key], {});\n",
              "          } catch (error) {\n",
              "            console.error('Error during call to suggestCharts:', error);\n",
              "          }\n",
              "          quickchartButtonEl.classList.remove('colab-df-spinner');\n",
              "          quickchartButtonEl.classList.add('colab-df-quickchart-complete');\n",
              "        }\n",
              "        (() => {\n",
              "          let quickchartButtonEl =\n",
              "            document.querySelector('#df-43b52396-4312-4f14-8f8c-1be07f44ac5a button');\n",
              "          quickchartButtonEl.style.display =\n",
              "            google.colab.kernel.accessAllowed ? 'block' : 'none';\n",
              "        })();\n",
              "      </script>\n",
              "    </div>\n",
              "\n",
              "    </div>\n",
              "  </div>\n"
            ],
            "application/vnd.google.colaboratory.intrinsic+json": {
              "type": "dataframe",
              "variable_name": "df"
            }
          },
          "metadata": {},
          "execution_count": 29
        }
      ]
    },
    {
      "cell_type": "code",
      "source": [
        "df['Vehicle'].value_counts()"
      ],
      "metadata": {
        "colab": {
          "base_uri": "https://localhost:8080/",
          "height": 241
        },
        "id": "TVMfWpIVn6CD",
        "outputId": "10268306-ce88-4a2a-fa24-750b3958e5f0"
      },
      "execution_count": 23,
      "outputs": [
        {
          "output_type": "execute_result",
          "data": {
            "text/plain": [
              "Vehicle\n",
              "Bus                   48960\n",
              "Train                 38450\n",
              "Plane                 12812\n",
              "InternationalPlane      795\n",
              "Name: count, dtype: int64"
            ],
            "text/html": [
              "<div>\n",
              "<style scoped>\n",
              "    .dataframe tbody tr th:only-of-type {\n",
              "        vertical-align: middle;\n",
              "    }\n",
              "\n",
              "    .dataframe tbody tr th {\n",
              "        vertical-align: top;\n",
              "    }\n",
              "\n",
              "    .dataframe thead th {\n",
              "        text-align: right;\n",
              "    }\n",
              "</style>\n",
              "<table border=\"1\" class=\"dataframe\">\n",
              "  <thead>\n",
              "    <tr style=\"text-align: right;\">\n",
              "      <th></th>\n",
              "      <th>count</th>\n",
              "    </tr>\n",
              "    <tr>\n",
              "      <th>Vehicle</th>\n",
              "      <th></th>\n",
              "    </tr>\n",
              "  </thead>\n",
              "  <tbody>\n",
              "    <tr>\n",
              "      <th>Bus</th>\n",
              "      <td>48960</td>\n",
              "    </tr>\n",
              "    <tr>\n",
              "      <th>Train</th>\n",
              "      <td>38450</td>\n",
              "    </tr>\n",
              "    <tr>\n",
              "      <th>Plane</th>\n",
              "      <td>12812</td>\n",
              "    </tr>\n",
              "    <tr>\n",
              "      <th>InternationalPlane</th>\n",
              "      <td>795</td>\n",
              "    </tr>\n",
              "  </tbody>\n",
              "</table>\n",
              "</div><br><label><b>dtype:</b> int64</label>"
            ]
          },
          "metadata": {},
          "execution_count": 23
        }
      ]
    },
    {
      "cell_type": "code",
      "source": [
        "df['Price'].mean()"
      ],
      "metadata": {
        "colab": {
          "base_uri": "https://localhost:8080/"
        },
        "id": "DC8gsapAn96z",
        "outputId": "daf4841b-0f0b-4fb9-e70b-d9cd72f69cae"
      },
      "execution_count": 30,
      "outputs": [
        {
          "output_type": "execute_result",
          "data": {
            "text/plain": [
              "np.float64(0.0003952800023758378)"
            ]
          },
          "metadata": {},
          "execution_count": 30
        }
      ]
    },
    {
      "cell_type": "code",
      "source": [],
      "metadata": {
        "id": "OG1K6mJFojpZ"
      },
      "execution_count": null,
      "outputs": []
    }
  ]
}